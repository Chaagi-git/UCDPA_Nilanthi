{
 "cells": [
  {
   "cell_type": "code",
   "execution_count": 1,
   "id": "c22a7fcc",
   "metadata": {},
   "outputs": [],
   "source": [
    "import numpy as np"
   ]
  },
  {
   "cell_type": "code",
   "execution_count": 2,
   "id": "c9705390",
   "metadata": {},
   "outputs": [],
   "source": [
    "import pandas as pd"
   ]
  },
  {
   "cell_type": "code",
   "execution_count": 3,
   "id": "a42fdbd7",
   "metadata": {},
   "outputs": [],
   "source": [
    "import seaborn as sns"
   ]
  },
  {
   "cell_type": "code",
   "execution_count": 4,
   "id": "2a520053",
   "metadata": {},
   "outputs": [],
   "source": [
    "import matplotlib.pyplot as plt"
   ]
  },
  {
   "cell_type": "code",
   "execution_count": 5,
   "id": "3ae7421e",
   "metadata": {},
   "outputs": [],
   "source": [
    "from collections import Counter\n",
    "%matplotlib inline"
   ]
  },
  {
   "cell_type": "code",
   "execution_count": null,
   "id": "e708e2f4",
   "metadata": {},
   "outputs": [],
   "source": [
    "#importing Dataset from <data.gov.ie>"
   ]
  },
  {
   "cell_type": "code",
   "execution_count": 6,
   "id": "33625d41",
   "metadata": {},
   "outputs": [],
   "source": [
    "data1=pd.read_csv(\"https://ws.cso.ie/public/api.restful/PxStat.Data.Cube_API.ReadDataset/FSA01/CSV/1.0/en\")"
   ]
  },
  {
   "cell_type": "code",
   "execution_count": 8,
   "id": "1674196d",
   "metadata": {},
   "outputs": [
    {
     "data": {
      "text/html": [
       "<div>\n",
       "<style scoped>\n",
       "    .dataframe tbody tr th:only-of-type {\n",
       "        vertical-align: middle;\n",
       "    }\n",
       "\n",
       "    .dataframe tbody tr th {\n",
       "        vertical-align: top;\n",
       "    }\n",
       "\n",
       "    .dataframe thead th {\n",
       "        text-align: right;\n",
       "    }\n",
       "</style>\n",
       "<table border=\"1\" class=\"dataframe\">\n",
       "  <thead>\n",
       "    <tr style=\"text-align: right;\">\n",
       "      <th></th>\n",
       "      <th>STATISTIC CODE</th>\n",
       "      <th>Statistic</th>\n",
       "      <th>C02122V02563</th>\n",
       "      <th>Farm Size</th>\n",
       "      <th>C02196V02652</th>\n",
       "      <th>Region</th>\n",
       "      <th>TLIST(A1)</th>\n",
       "      <th>Year</th>\n",
       "      <th>UNIT</th>\n",
       "      <th>VALUE</th>\n",
       "    </tr>\n",
       "  </thead>\n",
       "  <tbody>\n",
       "    <tr>\n",
       "      <th>0</th>\n",
       "      <td>FSA01</td>\n",
       "      <td>Number of Farms</td>\n",
       "      <td>8</td>\n",
       "      <td>&lt; 10 ha</td>\n",
       "      <td>-</td>\n",
       "      <td>State</td>\n",
       "      <td>2013</td>\n",
       "      <td>2013</td>\n",
       "      <td>Thousand</td>\n",
       "      <td>25.4</td>\n",
       "    </tr>\n",
       "    <tr>\n",
       "      <th>1</th>\n",
       "      <td>FSA01</td>\n",
       "      <td>Number of Farms</td>\n",
       "      <td>8</td>\n",
       "      <td>&lt; 10 ha</td>\n",
       "      <td>-</td>\n",
       "      <td>State</td>\n",
       "      <td>2016</td>\n",
       "      <td>2016</td>\n",
       "      <td>Thousand</td>\n",
       "      <td>26.2</td>\n",
       "    </tr>\n",
       "    <tr>\n",
       "      <th>2</th>\n",
       "      <td>FSA01</td>\n",
       "      <td>Number of Farms</td>\n",
       "      <td>8</td>\n",
       "      <td>&lt; 10 ha</td>\n",
       "      <td>IE1</td>\n",
       "      <td>Border, Midland and Western</td>\n",
       "      <td>2013</td>\n",
       "      <td>2013</td>\n",
       "      <td>Thousand</td>\n",
       "      <td>15.6</td>\n",
       "    </tr>\n",
       "    <tr>\n",
       "      <th>3</th>\n",
       "      <td>FSA01</td>\n",
       "      <td>Number of Farms</td>\n",
       "      <td>8</td>\n",
       "      <td>&lt; 10 ha</td>\n",
       "      <td>IE1</td>\n",
       "      <td>Border, Midland and Western</td>\n",
       "      <td>2016</td>\n",
       "      <td>2016</td>\n",
       "      <td>Thousand</td>\n",
       "      <td>15.8</td>\n",
       "    </tr>\n",
       "    <tr>\n",
       "      <th>4</th>\n",
       "      <td>FSA01</td>\n",
       "      <td>Number of Farms</td>\n",
       "      <td>8</td>\n",
       "      <td>&lt; 10 ha</td>\n",
       "      <td>IE11</td>\n",
       "      <td>Border</td>\n",
       "      <td>2013</td>\n",
       "      <td>2013</td>\n",
       "      <td>Thousand</td>\n",
       "      <td>6.5</td>\n",
       "    </tr>\n",
       "  </tbody>\n",
       "</table>\n",
       "</div>"
      ],
      "text/plain": [
       "  STATISTIC CODE        Statistic C02122V02563 Farm Size C02196V02652  \\\n",
       "0          FSA01  Number of Farms            8   < 10 ha            -   \n",
       "1          FSA01  Number of Farms            8   < 10 ha            -   \n",
       "2          FSA01  Number of Farms            8   < 10 ha          IE1   \n",
       "3          FSA01  Number of Farms            8   < 10 ha          IE1   \n",
       "4          FSA01  Number of Farms            8   < 10 ha         IE11   \n",
       "\n",
       "                        Region  TLIST(A1)  Year      UNIT  VALUE  \n",
       "0                        State       2013  2013  Thousand   25.4  \n",
       "1                        State       2016  2016  Thousand   26.2  \n",
       "2  Border, Midland and Western       2013  2013  Thousand   15.6  \n",
       "3  Border, Midland and Western       2016  2016  Thousand   15.8  \n",
       "4                       Border       2013  2013  Thousand    6.5  "
      ]
     },
     "execution_count": 8,
     "metadata": {},
     "output_type": "execute_result"
    }
   ],
   "source": [
    "data1.head()"
   ]
  },
  {
   "cell_type": "code",
   "execution_count": null,
   "id": "c1e12572",
   "metadata": {},
   "outputs": [],
   "source": [
    "#cleaning data"
   ]
  },
  {
   "cell_type": "code",
   "execution_count": 9,
   "id": "9223a4fe",
   "metadata": {},
   "outputs": [],
   "source": [
    "data2=data1.rename(columns={\"Farm Size\":\"FARM_SIZE\", \"VALUE\":\"NUMBER_OF_FARMS_AREA_000\"})"
   ]
  },
  {
   "cell_type": "code",
   "execution_count": 10,
   "id": "526ff99b",
   "metadata": {},
   "outputs": [
    {
     "data": {
      "text/html": [
       "<div>\n",
       "<style scoped>\n",
       "    .dataframe tbody tr th:only-of-type {\n",
       "        vertical-align: middle;\n",
       "    }\n",
       "\n",
       "    .dataframe tbody tr th {\n",
       "        vertical-align: top;\n",
       "    }\n",
       "\n",
       "    .dataframe thead th {\n",
       "        text-align: right;\n",
       "    }\n",
       "</style>\n",
       "<table border=\"1\" class=\"dataframe\">\n",
       "  <thead>\n",
       "    <tr style=\"text-align: right;\">\n",
       "      <th></th>\n",
       "      <th>STATISTIC CODE</th>\n",
       "      <th>Statistic</th>\n",
       "      <th>C02122V02563</th>\n",
       "      <th>FARM_SIZE</th>\n",
       "      <th>C02196V02652</th>\n",
       "      <th>Region</th>\n",
       "      <th>TLIST(A1)</th>\n",
       "      <th>Year</th>\n",
       "      <th>UNIT</th>\n",
       "      <th>NUMBER_OF_FARMS_AREA_000</th>\n",
       "    </tr>\n",
       "  </thead>\n",
       "  <tbody>\n",
       "    <tr>\n",
       "      <th>0</th>\n",
       "      <td>FSA01</td>\n",
       "      <td>Number of Farms</td>\n",
       "      <td>8</td>\n",
       "      <td>&lt; 10 ha</td>\n",
       "      <td>-</td>\n",
       "      <td>State</td>\n",
       "      <td>2013</td>\n",
       "      <td>2013</td>\n",
       "      <td>Thousand</td>\n",
       "      <td>25.4</td>\n",
       "    </tr>\n",
       "    <tr>\n",
       "      <th>1</th>\n",
       "      <td>FSA01</td>\n",
       "      <td>Number of Farms</td>\n",
       "      <td>8</td>\n",
       "      <td>&lt; 10 ha</td>\n",
       "      <td>-</td>\n",
       "      <td>State</td>\n",
       "      <td>2016</td>\n",
       "      <td>2016</td>\n",
       "      <td>Thousand</td>\n",
       "      <td>26.2</td>\n",
       "    </tr>\n",
       "    <tr>\n",
       "      <th>2</th>\n",
       "      <td>FSA01</td>\n",
       "      <td>Number of Farms</td>\n",
       "      <td>8</td>\n",
       "      <td>&lt; 10 ha</td>\n",
       "      <td>IE1</td>\n",
       "      <td>Border, Midland and Western</td>\n",
       "      <td>2013</td>\n",
       "      <td>2013</td>\n",
       "      <td>Thousand</td>\n",
       "      <td>15.6</td>\n",
       "    </tr>\n",
       "    <tr>\n",
       "      <th>3</th>\n",
       "      <td>FSA01</td>\n",
       "      <td>Number of Farms</td>\n",
       "      <td>8</td>\n",
       "      <td>&lt; 10 ha</td>\n",
       "      <td>IE1</td>\n",
       "      <td>Border, Midland and Western</td>\n",
       "      <td>2016</td>\n",
       "      <td>2016</td>\n",
       "      <td>Thousand</td>\n",
       "      <td>15.8</td>\n",
       "    </tr>\n",
       "    <tr>\n",
       "      <th>4</th>\n",
       "      <td>FSA01</td>\n",
       "      <td>Number of Farms</td>\n",
       "      <td>8</td>\n",
       "      <td>&lt; 10 ha</td>\n",
       "      <td>IE11</td>\n",
       "      <td>Border</td>\n",
       "      <td>2013</td>\n",
       "      <td>2013</td>\n",
       "      <td>Thousand</td>\n",
       "      <td>6.5</td>\n",
       "    </tr>\n",
       "  </tbody>\n",
       "</table>\n",
       "</div>"
      ],
      "text/plain": [
       "  STATISTIC CODE        Statistic C02122V02563 FARM_SIZE C02196V02652  \\\n",
       "0          FSA01  Number of Farms            8   < 10 ha            -   \n",
       "1          FSA01  Number of Farms            8   < 10 ha            -   \n",
       "2          FSA01  Number of Farms            8   < 10 ha          IE1   \n",
       "3          FSA01  Number of Farms            8   < 10 ha          IE1   \n",
       "4          FSA01  Number of Farms            8   < 10 ha         IE11   \n",
       "\n",
       "                        Region  TLIST(A1)  Year      UNIT  \\\n",
       "0                        State       2013  2013  Thousand   \n",
       "1                        State       2016  2016  Thousand   \n",
       "2  Border, Midland and Western       2013  2013  Thousand   \n",
       "3  Border, Midland and Western       2016  2016  Thousand   \n",
       "4                       Border       2013  2013  Thousand   \n",
       "\n",
       "   NUMBER_OF_FARMS_AREA_000  \n",
       "0                      25.4  \n",
       "1                      26.2  \n",
       "2                      15.6  \n",
       "3                      15.8  \n",
       "4                       6.5  "
      ]
     },
     "execution_count": 10,
     "metadata": {},
     "output_type": "execute_result"
    }
   ],
   "source": [
    "data2.head()"
   ]
  },
  {
   "cell_type": "code",
   "execution_count": 11,
   "id": "a9b8ac6c",
   "metadata": {},
   "outputs": [],
   "source": [
    "data3=data2[[\"FARM_SIZE\", \"Region\",\"Year\", \"NUMBER_OF_FARMS_AREA_000\"]]"
   ]
  },
  {
   "cell_type": "code",
   "execution_count": 12,
   "id": "193b666d",
   "metadata": {},
   "outputs": [
    {
     "data": {
      "text/html": [
       "<div>\n",
       "<style scoped>\n",
       "    .dataframe tbody tr th:only-of-type {\n",
       "        vertical-align: middle;\n",
       "    }\n",
       "\n",
       "    .dataframe tbody tr th {\n",
       "        vertical-align: top;\n",
       "    }\n",
       "\n",
       "    .dataframe thead th {\n",
       "        text-align: right;\n",
       "    }\n",
       "</style>\n",
       "<table border=\"1\" class=\"dataframe\">\n",
       "  <thead>\n",
       "    <tr style=\"text-align: right;\">\n",
       "      <th></th>\n",
       "      <th>FARM_SIZE</th>\n",
       "      <th>Region</th>\n",
       "      <th>Year</th>\n",
       "      <th>NUMBER_OF_FARMS_AREA_000</th>\n",
       "    </tr>\n",
       "  </thead>\n",
       "  <tbody>\n",
       "    <tr>\n",
       "      <th>0</th>\n",
       "      <td>&lt; 10 ha</td>\n",
       "      <td>State</td>\n",
       "      <td>2013</td>\n",
       "      <td>25.4</td>\n",
       "    </tr>\n",
       "    <tr>\n",
       "      <th>1</th>\n",
       "      <td>&lt; 10 ha</td>\n",
       "      <td>State</td>\n",
       "      <td>2016</td>\n",
       "      <td>26.2</td>\n",
       "    </tr>\n",
       "    <tr>\n",
       "      <th>2</th>\n",
       "      <td>&lt; 10 ha</td>\n",
       "      <td>Border, Midland and Western</td>\n",
       "      <td>2013</td>\n",
       "      <td>15.6</td>\n",
       "    </tr>\n",
       "    <tr>\n",
       "      <th>3</th>\n",
       "      <td>&lt; 10 ha</td>\n",
       "      <td>Border, Midland and Western</td>\n",
       "      <td>2016</td>\n",
       "      <td>15.8</td>\n",
       "    </tr>\n",
       "    <tr>\n",
       "      <th>4</th>\n",
       "      <td>&lt; 10 ha</td>\n",
       "      <td>Border</td>\n",
       "      <td>2013</td>\n",
       "      <td>6.5</td>\n",
       "    </tr>\n",
       "  </tbody>\n",
       "</table>\n",
       "</div>"
      ],
      "text/plain": [
       "  FARM_SIZE                       Region  Year  NUMBER_OF_FARMS_AREA_000\n",
       "0   < 10 ha                        State  2013                      25.4\n",
       "1   < 10 ha                        State  2016                      26.2\n",
       "2   < 10 ha  Border, Midland and Western  2013                      15.6\n",
       "3   < 10 ha  Border, Midland and Western  2016                      15.8\n",
       "4   < 10 ha                       Border  2013                       6.5"
      ]
     },
     "execution_count": 12,
     "metadata": {},
     "output_type": "execute_result"
    }
   ],
   "source": [
    "data3.head()"
   ]
  },
  {
   "cell_type": "code",
   "execution_count": 14,
   "id": "0c0f34e5",
   "metadata": {},
   "outputs": [
    {
     "data": {
      "text/plain": [
       "FARM_SIZE                   0\n",
       "Region                      0\n",
       "Year                        0\n",
       "NUMBER_OF_FARMS_AREA_000    0\n",
       "dtype: int64"
      ]
     },
     "execution_count": 14,
     "metadata": {},
     "output_type": "execute_result"
    }
   ],
   "source": [
    "data3.isnull().sum()"
   ]
  },
  {
   "cell_type": "code",
   "execution_count": 15,
   "id": "0e8d6f01",
   "metadata": {},
   "outputs": [
    {
     "data": {
      "text/plain": [
       "0"
      ]
     },
     "execution_count": 15,
     "metadata": {},
     "output_type": "execute_result"
    }
   ],
   "source": [
    "data3.duplicated().sum()"
   ]
  },
  {
   "cell_type": "code",
   "execution_count": 13,
   "id": "b5479d21",
   "metadata": {},
   "outputs": [
    {
     "data": {
      "text/html": [
       "<div>\n",
       "<style scoped>\n",
       "    .dataframe tbody tr th:only-of-type {\n",
       "        vertical-align: middle;\n",
       "    }\n",
       "\n",
       "    .dataframe tbody tr th {\n",
       "        vertical-align: top;\n",
       "    }\n",
       "\n",
       "    .dataframe thead th {\n",
       "        text-align: right;\n",
       "    }\n",
       "</style>\n",
       "<table border=\"1\" class=\"dataframe\">\n",
       "  <thead>\n",
       "    <tr style=\"text-align: right;\">\n",
       "      <th></th>\n",
       "      <th>Year</th>\n",
       "      <th>NUMBER_OF_FARMS_AREA_000</th>\n",
       "    </tr>\n",
       "  </thead>\n",
       "  <tbody>\n",
       "    <tr>\n",
       "      <th>count</th>\n",
       "      <td>140.000000</td>\n",
       "      <td>140.000000</td>\n",
       "    </tr>\n",
       "    <tr>\n",
       "      <th>mean</th>\n",
       "      <td>2014.500000</td>\n",
       "      <td>11.875714</td>\n",
       "    </tr>\n",
       "    <tr>\n",
       "      <th>std</th>\n",
       "      <td>1.505386</td>\n",
       "      <td>20.202952</td>\n",
       "    </tr>\n",
       "    <tr>\n",
       "      <th>min</th>\n",
       "      <td>2013.000000</td>\n",
       "      <td>0.400000</td>\n",
       "    </tr>\n",
       "    <tr>\n",
       "      <th>25%</th>\n",
       "      <td>2013.000000</td>\n",
       "      <td>2.375000</td>\n",
       "    </tr>\n",
       "    <tr>\n",
       "      <th>50%</th>\n",
       "      <td>2014.500000</td>\n",
       "      <td>4.650000</td>\n",
       "    </tr>\n",
       "    <tr>\n",
       "      <th>75%</th>\n",
       "      <td>2016.000000</td>\n",
       "      <td>13.625000</td>\n",
       "    </tr>\n",
       "    <tr>\n",
       "      <th>max</th>\n",
       "      <td>2016.000000</td>\n",
       "      <td>139.600000</td>\n",
       "    </tr>\n",
       "  </tbody>\n",
       "</table>\n",
       "</div>"
      ],
      "text/plain": [
       "              Year  NUMBER_OF_FARMS_AREA_000\n",
       "count   140.000000                140.000000\n",
       "mean   2014.500000                 11.875714\n",
       "std       1.505386                 20.202952\n",
       "min    2013.000000                  0.400000\n",
       "25%    2013.000000                  2.375000\n",
       "50%    2014.500000                  4.650000\n",
       "75%    2016.000000                 13.625000\n",
       "max    2016.000000                139.600000"
      ]
     },
     "execution_count": 13,
     "metadata": {},
     "output_type": "execute_result"
    }
   ],
   "source": [
    "data3.describe()"
   ]
  },
  {
   "cell_type": "code",
   "execution_count": 16,
   "id": "f1b3c386",
   "metadata": {},
   "outputs": [
    {
     "data": {
      "text/plain": [
       "array([[<AxesSubplot:title={'center':'NUMBER_OF_FARMS_AREA_000'}>]],\n",
       "      dtype=object)"
      ]
     },
     "execution_count": 16,
     "metadata": {},
     "output_type": "execute_result"
    },
    {
     "data": {
      "image/png": "[encoded data removed]",
      "text/plain": [
       "<Figure size 432x288 with 1 Axes>"
      ]
     },
     "metadata": {
      "needs_background": "light"
     },
     "output_type": "display_data"
    }
   ],
   "source": [
    "data3.hist(\"NUMBER_OF_FARMS_AREA_000\")"
   ]
  },
  {
   "cell_type": "code",
   "execution_count": null,
   "id": "8cb77176",
   "metadata": {},
   "outputs": [],
   "source": [
    "#Number of farms in year 2016"
   ]
  },
  {
   "cell_type": "code",
   "execution_count": 21,
   "id": "1b9f1e91",
   "metadata": {},
   "outputs": [],
   "source": [
    "data4=data3[data3[\"Year\"] == 2016]"
   ]
  },
  {
   "cell_type": "code",
   "execution_count": 20,
   "id": "db2aa8ff",
   "metadata": {},
   "outputs": [
    {
     "data": {
      "text/html": [
       "<div>\n",
       "<style scoped>\n",
       "    .dataframe tbody tr th:only-of-type {\n",
       "        vertical-align: middle;\n",
       "    }\n",
       "\n",
       "    .dataframe tbody tr th {\n",
       "        vertical-align: top;\n",
       "    }\n",
       "\n",
       "    .dataframe thead th {\n",
       "        text-align: right;\n",
       "    }\n",
       "</style>\n",
       "<table border=\"1\" class=\"dataframe\">\n",
       "  <thead>\n",
       "    <tr style=\"text-align: right;\">\n",
       "      <th></th>\n",
       "      <th>FARM_SIZE</th>\n",
       "      <th>Region</th>\n",
       "      <th>Year</th>\n",
       "      <th>NUMBER_OF_FARMS_AREA_000</th>\n",
       "    </tr>\n",
       "  </thead>\n",
       "  <tbody>\n",
       "    <tr>\n",
       "      <th>3</th>\n",
       "      <td>&lt; 10 ha</td>\n",
       "      <td>Border, Midland and Western</td>\n",
       "      <td>2016</td>\n",
       "      <td>15.8</td>\n",
       "    </tr>\n",
       "    <tr>\n",
       "      <th>23</th>\n",
       "      <td>10 - &lt; 20 ha</td>\n",
       "      <td>Border, Midland and Western</td>\n",
       "      <td>2016</td>\n",
       "      <td>20.6</td>\n",
       "    </tr>\n",
       "    <tr>\n",
       "      <th>43</th>\n",
       "      <td>20 - &lt; 30 ha</td>\n",
       "      <td>Border, Midland and Western</td>\n",
       "      <td>2016</td>\n",
       "      <td>13.6</td>\n",
       "    </tr>\n",
       "    <tr>\n",
       "      <th>63</th>\n",
       "      <td>30 - &lt; 50 ha</td>\n",
       "      <td>Border, Midland and Western</td>\n",
       "      <td>2016</td>\n",
       "      <td>13.9</td>\n",
       "    </tr>\n",
       "    <tr>\n",
       "      <th>83</th>\n",
       "      <td>50 - &lt; 100 ha</td>\n",
       "      <td>Border, Midland and Western</td>\n",
       "      <td>2016</td>\n",
       "      <td>7.2</td>\n",
       "    </tr>\n",
       "  </tbody>\n",
       "</table>\n",
       "</div>"
      ],
      "text/plain": [
       "        FARM_SIZE                       Region  Year  NUMBER_OF_FARMS_AREA_000\n",
       "3         < 10 ha  Border, Midland and Western  2016                      15.8\n",
       "23   10 - < 20 ha  Border, Midland and Western  2016                      20.6\n",
       "43   20 - < 30 ha  Border, Midland and Western  2016                      13.6\n",
       "63   30 - < 50 ha  Border, Midland and Western  2016                      13.9\n",
       "83  50 - < 100 ha  Border, Midland and Western  2016                       7.2"
      ]
     },
     "execution_count": 20,
     "metadata": {},
     "output_type": "execute_result"
    }
   ],
   "source": [
    "data4.head()"
   ]
  },
  {
   "cell_type": "code",
   "execution_count": 22,
   "id": "2a4cde2c",
   "metadata": {},
   "outputs": [],
   "source": [
    "data5= data4[data4[\"FARM_SIZE\"] == \"All farms\"]"
   ]
  },
  {
   "cell_type": "code",
   "execution_count": 24,
   "id": "a49a25cf",
   "metadata": {},
   "outputs": [
    {
     "data": {
      "text/html": [
       "<div>\n",
       "<style scoped>\n",
       "    .dataframe tbody tr th:only-of-type {\n",
       "        vertical-align: middle;\n",
       "    }\n",
       "\n",
       "    .dataframe tbody tr th {\n",
       "        vertical-align: top;\n",
       "    }\n",
       "\n",
       "    .dataframe thead th {\n",
       "        text-align: right;\n",
       "    }\n",
       "</style>\n",
       "<table border=\"1\" class=\"dataframe\">\n",
       "  <thead>\n",
       "    <tr style=\"text-align: right;\">\n",
       "      <th></th>\n",
       "      <th>FARM_SIZE</th>\n",
       "      <th>Region</th>\n",
       "      <th>Year</th>\n",
       "      <th>NUMBER_OF_FARMS_AREA_000</th>\n",
       "    </tr>\n",
       "  </thead>\n",
       "  <tbody>\n",
       "    <tr>\n",
       "      <th>121</th>\n",
       "      <td>All farms</td>\n",
       "      <td>State</td>\n",
       "      <td>2016</td>\n",
       "      <td>137.5</td>\n",
       "    </tr>\n",
       "    <tr>\n",
       "      <th>123</th>\n",
       "      <td>All farms</td>\n",
       "      <td>Border, Midland and Western</td>\n",
       "      <td>2016</td>\n",
       "      <td>72.5</td>\n",
       "    </tr>\n",
       "    <tr>\n",
       "      <th>125</th>\n",
       "      <td>All farms</td>\n",
       "      <td>Border</td>\n",
       "      <td>2016</td>\n",
       "      <td>28.4</td>\n",
       "    </tr>\n",
       "    <tr>\n",
       "      <th>127</th>\n",
       "      <td>All farms</td>\n",
       "      <td>Midland</td>\n",
       "      <td>2016</td>\n",
       "      <td>12.8</td>\n",
       "    </tr>\n",
       "    <tr>\n",
       "      <th>129</th>\n",
       "      <td>All farms</td>\n",
       "      <td>West</td>\n",
       "      <td>2016</td>\n",
       "      <td>31.4</td>\n",
       "    </tr>\n",
       "  </tbody>\n",
       "</table>\n",
       "</div>"
      ],
      "text/plain": [
       "     FARM_SIZE                       Region  Year  NUMBER_OF_FARMS_AREA_000\n",
       "121  All farms                        State  2016                     137.5\n",
       "123  All farms  Border, Midland and Western  2016                      72.5\n",
       "125  All farms                       Border  2016                      28.4\n",
       "127  All farms                      Midland  2016                      12.8\n",
       "129  All farms                         West  2016                      31.4"
      ]
     },
     "execution_count": 24,
     "metadata": {},
     "output_type": "execute_result"
    }
   ],
   "source": [
    "data5.head()"
   ]
  },
  {
   "cell_type": "code",
   "execution_count": 161,
   "id": "b612f54e",
   "metadata": {},
   "outputs": [
    {
     "data": {
      "text/html": [
       "<div>\n",
       "<style scoped>\n",
       "    .dataframe tbody tr th:only-of-type {\n",
       "        vertical-align: middle;\n",
       "    }\n",
       "\n",
       "    .dataframe tbody tr th {\n",
       "        vertical-align: top;\n",
       "    }\n",
       "\n",
       "    .dataframe thead th {\n",
       "        text-align: right;\n",
       "    }\n",
       "</style>\n",
       "<table border=\"1\" class=\"dataframe\">\n",
       "  <thead>\n",
       "    <tr style=\"text-align: right;\">\n",
       "      <th></th>\n",
       "      <th>Year</th>\n",
       "      <th>NUMBER_OF_FARMS_AREA_000</th>\n",
       "    </tr>\n",
       "  </thead>\n",
       "  <tbody>\n",
       "    <tr>\n",
       "      <th>count</th>\n",
       "      <td>10.0</td>\n",
       "      <td>10.000000</td>\n",
       "    </tr>\n",
       "    <tr>\n",
       "      <th>mean</th>\n",
       "      <td>2016.0</td>\n",
       "      <td>1.460000</td>\n",
       "    </tr>\n",
       "    <tr>\n",
       "      <th>std</th>\n",
       "      <td>0.0</td>\n",
       "      <td>1.496069</td>\n",
       "    </tr>\n",
       "    <tr>\n",
       "      <th>min</th>\n",
       "      <td>2016.0</td>\n",
       "      <td>0.400000</td>\n",
       "    </tr>\n",
       "    <tr>\n",
       "      <th>25%</th>\n",
       "      <td>2016.0</td>\n",
       "      <td>0.500000</td>\n",
       "    </tr>\n",
       "    <tr>\n",
       "      <th>50%</th>\n",
       "      <td>2016.0</td>\n",
       "      <td>0.950000</td>\n",
       "    </tr>\n",
       "    <tr>\n",
       "      <th>75%</th>\n",
       "      <td>2016.0</td>\n",
       "      <td>1.325000</td>\n",
       "    </tr>\n",
       "    <tr>\n",
       "      <th>max</th>\n",
       "      <td>2016.0</td>\n",
       "      <td>4.900000</td>\n",
       "    </tr>\n",
       "  </tbody>\n",
       "</table>\n",
       "</div>"
      ],
      "text/plain": [
       "         Year  NUMBER_OF_FARMS_AREA_000\n",
       "count    10.0                 10.000000\n",
       "mean   2016.0                  1.460000\n",
       "std       0.0                  1.496069\n",
       "min    2016.0                  0.400000\n",
       "25%    2016.0                  0.500000\n",
       "50%    2016.0                  0.950000\n",
       "75%    2016.0                  1.325000\n",
       "max    2016.0                  4.900000"
      ]
     },
     "execution_count": 161,
     "metadata": {},
     "output_type": "execute_result"
    }
   ],
   "source": [
    "data5.describe()"
   ]
  },
  {
   "cell_type": "code",
   "execution_count": 25,
   "id": "5df5abc0",
   "metadata": {},
   "outputs": [],
   "source": [
    "data6 = data5.groupby(\"Region\")[\"NUMBER_OF_FARMS_AREA_000\"].sum().sort_values()"
   ]
  },
  {
   "cell_type": "code",
   "execution_count": 26,
   "id": "83a64d37",
   "metadata": {},
   "outputs": [
    {
     "data": {
      "text/plain": [
       "Region\n",
       "Dublin plus Mid East            10.3\n",
       "Midland                         12.8\n",
       "Mid-West                        15.9\n",
       "South-East                      16.5\n",
       "South-West                      22.3\n",
       "Border                          28.4\n",
       "West                            31.4\n",
       "Southern and Eastern            65.0\n",
       "Border, Midland and Western     72.5\n",
       "State                          137.5\n",
       "Name: NUMBER_OF_FARMS_AREA_000, dtype: float64"
      ]
     },
     "execution_count": 26,
     "metadata": {},
     "output_type": "execute_result"
    }
   ],
   "source": [
    "data6"
   ]
  },
  {
   "cell_type": "code",
   "execution_count": 279,
   "id": "4eed58c2",
   "metadata": {},
   "outputs": [
    {
     "data": {
      "text/plain": [
       "Text(20.125, 0.5, 'Number of Farms (000)')"
      ]
     },
     "execution_count": 279,
     "metadata": {},
     "output_type": "execute_result"
    },
    {
     "data": {
      "image/png": "[encoded data removed]",
      "text/plain": [
       "<Figure size 432x288 with 1 Axes>"
      ]
     },
     "metadata": {
      "needs_background": "light"
     },
     "output_type": "display_data"
    }
   ],
   "source": [
    "data6.plot(kind='bar', x='Region', y='NUMBER_OF_FARMS_AREA_000')\n",
    "plt.tight_layout()\n",
    "plt.rcParams.update({'font.size': 12})\n",
    "plt.xticks(rotation=35, horizontalalignment=\"right\")\n",
    "plt.title(\"Distribution of Farms in Ireland in 2016\")\n",
    "plt.xlabel(\"Farming Region\")\n",
    "plt.ylabel(\"Number of Farms (000)\")"
   ]
  },
  {
   "cell_type": "code",
   "execution_count": null,
   "id": "c65af763",
   "metadata": {},
   "outputs": [],
   "source": [
    "Tab=pd.merge(Facts10, Figures6, on=\"FARM_TYPE\", how=\"inner\")"
   ]
  },
  {
   "cell_type": "code",
   "execution_count": null,
   "id": "192346b2",
   "metadata": {},
   "outputs": [],
   "source": [
    "#Largest farms in Ireland"
   ]
  },
  {
   "cell_type": "code",
   "execution_count": 29,
   "id": "3f6ba26e",
   "metadata": {},
   "outputs": [],
   "source": [
    "data7= data4[data4[\"FARM_SIZE\"] == \">= 100 ha\"]"
   ]
  },
  {
   "cell_type": "code",
   "execution_count": 30,
   "id": "23a7d128",
   "metadata": {},
   "outputs": [
    {
     "data": {
      "text/html": [
       "<div>\n",
       "<style scoped>\n",
       "    .dataframe tbody tr th:only-of-type {\n",
       "        vertical-align: middle;\n",
       "    }\n",
       "\n",
       "    .dataframe tbody tr th {\n",
       "        vertical-align: top;\n",
       "    }\n",
       "\n",
       "    .dataframe thead th {\n",
       "        text-align: right;\n",
       "    }\n",
       "</style>\n",
       "<table border=\"1\" class=\"dataframe\">\n",
       "  <thead>\n",
       "    <tr style=\"text-align: right;\">\n",
       "      <th></th>\n",
       "      <th>FARM_SIZE</th>\n",
       "      <th>Region</th>\n",
       "      <th>Year</th>\n",
       "      <th>NUMBER_OF_FARMS_AREA_000</th>\n",
       "    </tr>\n",
       "  </thead>\n",
       "  <tbody>\n",
       "    <tr>\n",
       "      <th>101</th>\n",
       "      <td>&gt;= 100 ha</td>\n",
       "      <td>State</td>\n",
       "      <td>2016</td>\n",
       "      <td>4.9</td>\n",
       "    </tr>\n",
       "    <tr>\n",
       "      <th>103</th>\n",
       "      <td>&gt;= 100 ha</td>\n",
       "      <td>Border, Midland and Western</td>\n",
       "      <td>2016</td>\n",
       "      <td>1.4</td>\n",
       "    </tr>\n",
       "    <tr>\n",
       "      <th>105</th>\n",
       "      <td>&gt;= 100 ha</td>\n",
       "      <td>Border</td>\n",
       "      <td>2016</td>\n",
       "      <td>0.5</td>\n",
       "    </tr>\n",
       "    <tr>\n",
       "      <th>107</th>\n",
       "      <td>&gt;= 100 ha</td>\n",
       "      <td>Midland</td>\n",
       "      <td>2016</td>\n",
       "      <td>0.5</td>\n",
       "    </tr>\n",
       "    <tr>\n",
       "      <th>109</th>\n",
       "      <td>&gt;= 100 ha</td>\n",
       "      <td>West</td>\n",
       "      <td>2016</td>\n",
       "      <td>0.4</td>\n",
       "    </tr>\n",
       "  </tbody>\n",
       "</table>\n",
       "</div>"
      ],
      "text/plain": [
       "     FARM_SIZE                       Region  Year  NUMBER_OF_FARMS_AREA_000\n",
       "101  >= 100 ha                        State  2016                       4.9\n",
       "103  >= 100 ha  Border, Midland and Western  2016                       1.4\n",
       "105  >= 100 ha                       Border  2016                       0.5\n",
       "107  >= 100 ha                      Midland  2016                       0.5\n",
       "109  >= 100 ha                         West  2016                       0.4"
      ]
     },
     "execution_count": 30,
     "metadata": {},
     "output_type": "execute_result"
    }
   ],
   "source": [
    "data7.head()"
   ]
  },
  {
   "cell_type": "code",
   "execution_count": 31,
   "id": "be405a6c",
   "metadata": {},
   "outputs": [],
   "source": [
    "data8 = data7.groupby(\"Region\")[\"NUMBER_OF_FARMS_AREA_000\"].sum().sort_values()"
   ]
  },
  {
   "cell_type": "code",
   "execution_count": 32,
   "id": "75339b0f",
   "metadata": {},
   "outputs": [
    {
     "data": {
      "text/plain": [
       "Region\n",
       "West                           0.4\n",
       "Border                         0.5\n",
       "Mid-West                       0.5\n",
       "Midland                        0.5\n",
       "Dublin plus Mid East           0.9\n",
       "South-West                     1.0\n",
       "South-East                     1.1\n",
       "Border, Midland and Western    1.4\n",
       "Southern and Eastern           3.4\n",
       "State                          4.9\n",
       "Name: NUMBER_OF_FARMS_AREA_000, dtype: float64"
      ]
     },
     "execution_count": 32,
     "metadata": {},
     "output_type": "execute_result"
    }
   ],
   "source": [
    "data8"
   ]
  },
  {
   "cell_type": "code",
   "execution_count": 245,
   "id": "1dc6cc74",
   "metadata": {},
   "outputs": [
    {
     "data": {
      "text/plain": [
       "69.3877551020408"
      ]
     },
     "execution_count": 245,
     "metadata": {},
     "output_type": "execute_result"
    }
   ],
   "source": [
    "3.4/4.9*100"
   ]
  },
  {
   "cell_type": "code",
   "execution_count": 280,
   "id": "b7dd55ae",
   "metadata": {},
   "outputs": [
    {
     "data": {
      "text/plain": [
       "Text(35.375, 0.5, 'Number of Farms (000)')"
      ]
     },
     "execution_count": 280,
     "metadata": {},
     "output_type": "execute_result"
    },
    {
     "data": {
      "image/png": "[encoded data removed]",
      "text/plain": [
       "<Figure size 432x288 with 1 Axes>"
      ]
     },
     "metadata": {
      "needs_background": "light"
     },
     "output_type": "display_data"
    }
   ],
   "source": [
    "data8.plot(kind='bar', x='Region', y='NUMBER_OF_FARMS_AREA_000', color=\"brown\")\n",
    "plt.tight_layout(), \n",
    "plt.rcParams.update({'font.size': 12})\n",
    "plt.xticks(rotation=35, horizontalalignment=\"right\")\n",
    "plt.title(\"Distribution of Large Farms in Ireland in 2016\")\n",
    "plt.xlabel(\"Farming Region\")\n",
    "plt.ylabel(\"Number of Farms (000)\")"
   ]
  },
  {
   "cell_type": "code",
   "execution_count": null,
   "id": "ff2fc32a",
   "metadata": {},
   "outputs": [],
   "source": [
    "#Smallest farms in Ireland"
   ]
  },
  {
   "cell_type": "code",
   "execution_count": 34,
   "id": "cd52602d",
   "metadata": {},
   "outputs": [],
   "source": [
    "data9= data4[data4[\"FARM_SIZE\"] == \"< 10 ha\"]"
   ]
  },
  {
   "cell_type": "code",
   "execution_count": 35,
   "id": "c60e3f59",
   "metadata": {},
   "outputs": [
    {
     "data": {
      "text/html": [
       "<div>\n",
       "<style scoped>\n",
       "    .dataframe tbody tr th:only-of-type {\n",
       "        vertical-align: middle;\n",
       "    }\n",
       "\n",
       "    .dataframe tbody tr th {\n",
       "        vertical-align: top;\n",
       "    }\n",
       "\n",
       "    .dataframe thead th {\n",
       "        text-align: right;\n",
       "    }\n",
       "</style>\n",
       "<table border=\"1\" class=\"dataframe\">\n",
       "  <thead>\n",
       "    <tr style=\"text-align: right;\">\n",
       "      <th></th>\n",
       "      <th>FARM_SIZE</th>\n",
       "      <th>Region</th>\n",
       "      <th>Year</th>\n",
       "      <th>NUMBER_OF_FARMS_AREA_000</th>\n",
       "    </tr>\n",
       "  </thead>\n",
       "  <tbody>\n",
       "    <tr>\n",
       "      <th>1</th>\n",
       "      <td>&lt; 10 ha</td>\n",
       "      <td>State</td>\n",
       "      <td>2016</td>\n",
       "      <td>26.2</td>\n",
       "    </tr>\n",
       "    <tr>\n",
       "      <th>3</th>\n",
       "      <td>&lt; 10 ha</td>\n",
       "      <td>Border, Midland and Western</td>\n",
       "      <td>2016</td>\n",
       "      <td>15.8</td>\n",
       "    </tr>\n",
       "    <tr>\n",
       "      <th>5</th>\n",
       "      <td>&lt; 10 ha</td>\n",
       "      <td>Border</td>\n",
       "      <td>2016</td>\n",
       "      <td>6.6</td>\n",
       "    </tr>\n",
       "    <tr>\n",
       "      <th>7</th>\n",
       "      <td>&lt; 10 ha</td>\n",
       "      <td>Midland</td>\n",
       "      <td>2016</td>\n",
       "      <td>2.1</td>\n",
       "    </tr>\n",
       "    <tr>\n",
       "      <th>9</th>\n",
       "      <td>&lt; 10 ha</td>\n",
       "      <td>West</td>\n",
       "      <td>2016</td>\n",
       "      <td>7.1</td>\n",
       "    </tr>\n",
       "  </tbody>\n",
       "</table>\n",
       "</div>"
      ],
      "text/plain": [
       "  FARM_SIZE                       Region  Year  NUMBER_OF_FARMS_AREA_000\n",
       "1   < 10 ha                        State  2016                      26.2\n",
       "3   < 10 ha  Border, Midland and Western  2016                      15.8\n",
       "5   < 10 ha                       Border  2016                       6.6\n",
       "7   < 10 ha                      Midland  2016                       2.1\n",
       "9   < 10 ha                         West  2016                       7.1"
      ]
     },
     "execution_count": 35,
     "metadata": {},
     "output_type": "execute_result"
    }
   ],
   "source": [
    "data9.head()"
   ]
  },
  {
   "cell_type": "code",
   "execution_count": 36,
   "id": "c50dac37",
   "metadata": {},
   "outputs": [],
   "source": [
    "data10 = data9.groupby(\"Region\")[\"NUMBER_OF_FARMS_AREA_000\"].sum().sort_values()"
   ]
  },
  {
   "cell_type": "code",
   "execution_count": 37,
   "id": "a8f735ce",
   "metadata": {},
   "outputs": [
    {
     "data": {
      "text/plain": [
       "Region\n",
       "Dublin plus Mid East            1.9\n",
       "Midland                         2.1\n",
       "Mid-West                        2.3\n",
       "South-East                      2.6\n",
       "South-West                      3.6\n",
       "Border                          6.6\n",
       "West                            7.1\n",
       "Southern and Eastern           10.4\n",
       "Border, Midland and Western    15.8\n",
       "State                          26.2\n",
       "Name: NUMBER_OF_FARMS_AREA_000, dtype: float64"
      ]
     },
     "execution_count": 37,
     "metadata": {},
     "output_type": "execute_result"
    }
   ],
   "source": [
    "data10"
   ]
  },
  {
   "cell_type": "code",
   "execution_count": 246,
   "id": "4a815aae",
   "metadata": {},
   "outputs": [
    {
     "data": {
      "text/plain": [
       "60.30534351145038"
      ]
     },
     "execution_count": 246,
     "metadata": {},
     "output_type": "execute_result"
    }
   ],
   "source": [
    "15.8/26.2*100"
   ]
  },
  {
   "cell_type": "code",
   "execution_count": 281,
   "id": "64a7f913",
   "metadata": {},
   "outputs": [
    {
     "data": {
      "text/plain": [
       "Text(27.75, 0.5, 'Number of Farms (000)')"
      ]
     },
     "execution_count": 281,
     "metadata": {},
     "output_type": "execute_result"
    },
    {
     "data": {
      "image/png": "[encoded data removed]",
      "text/plain": [
       "<Figure size 432x288 with 1 Axes>"
      ]
     },
     "metadata": {
      "needs_background": "light"
     },
     "output_type": "display_data"
    }
   ],
   "source": [
    "data10.plot(kind='bar', x='Region', y='NUMBER_OF_FARMS_AREA_000', color=\"yellow\")\n",
    "plt.tight_layout()\n",
    "plt.rcParams.update({'font.size': 12})\n",
    "plt.xticks(rotation=35, horizontalalignment=\"right\")\n",
    "plt.title(\"Distribution of Small Farms in Ireland in 2016\")\n",
    "plt.xlabel(\"Farming Region\")\n",
    "plt.ylabel(\"Number of Farms (000)\")"
   ]
  },
  {
   "cell_type": "code",
   "execution_count": 39,
   "id": "ad3f657f",
   "metadata": {},
   "outputs": [],
   "source": [
    "#importing second dataset, saved in from my computer"
   ]
  },
  {
   "cell_type": "code",
   "execution_count": 40,
   "id": "aa6ee57f",
   "metadata": {},
   "outputs": [],
   "source": [
    "Facts1=pd.read_excel(r\"C:\\Users\\Chaagi\\Desktop\\PhD UCD\\D\\Data Analytics\\NFS02.xlsx\")"
   ]
  },
  {
   "cell_type": "code",
   "execution_count": 41,
   "id": "e63de546",
   "metadata": {},
   "outputs": [
    {
     "data": {
      "text/html": [
       "<div>\n",
       "<style scoped>\n",
       "    .dataframe tbody tr th:only-of-type {\n",
       "        vertical-align: middle;\n",
       "    }\n",
       "\n",
       "    .dataframe tbody tr th {\n",
       "        vertical-align: top;\n",
       "    }\n",
       "\n",
       "    .dataframe thead th {\n",
       "        text-align: right;\n",
       "    }\n",
       "</style>\n",
       "<table border=\"1\" class=\"dataframe\">\n",
       "  <thead>\n",
       "    <tr style=\"text-align: right;\">\n",
       "      <th></th>\n",
       "      <th>STATISTIC CODE</th>\n",
       "      <th>Statistic</th>\n",
       "      <th>C02084V02518</th>\n",
       "      <th>Type of Farm</th>\n",
       "      <th>C02196V02652</th>\n",
       "      <th>Region</th>\n",
       "      <th>TLIST(A1)</th>\n",
       "      <th>Year</th>\n",
       "      <th>UNIT</th>\n",
       "      <th>VALUE</th>\n",
       "    </tr>\n",
       "  </thead>\n",
       "  <tbody>\n",
       "    <tr>\n",
       "      <th>0</th>\n",
       "      <td>FSA02</td>\n",
       "      <td>Number of Farms</td>\n",
       "      <td>-</td>\n",
       "      <td>All farms</td>\n",
       "      <td>-</td>\n",
       "      <td>State</td>\n",
       "      <td>2013</td>\n",
       "      <td>2013</td>\n",
       "      <td>Thousand</td>\n",
       "      <td>139.6</td>\n",
       "    </tr>\n",
       "    <tr>\n",
       "      <th>1</th>\n",
       "      <td>FSA02</td>\n",
       "      <td>Number of Farms</td>\n",
       "      <td>-</td>\n",
       "      <td>All farms</td>\n",
       "      <td>-</td>\n",
       "      <td>State</td>\n",
       "      <td>2016</td>\n",
       "      <td>2016</td>\n",
       "      <td>Thousand</td>\n",
       "      <td>137.5</td>\n",
       "    </tr>\n",
       "    <tr>\n",
       "      <th>2</th>\n",
       "      <td>FSA02</td>\n",
       "      <td>Number of Farms</td>\n",
       "      <td>-</td>\n",
       "      <td>All farms</td>\n",
       "      <td>IE1</td>\n",
       "      <td>Border, Midland and Western</td>\n",
       "      <td>2013</td>\n",
       "      <td>2013</td>\n",
       "      <td>Thousand</td>\n",
       "      <td>73.6</td>\n",
       "    </tr>\n",
       "    <tr>\n",
       "      <th>3</th>\n",
       "      <td>FSA02</td>\n",
       "      <td>Number of Farms</td>\n",
       "      <td>-</td>\n",
       "      <td>All farms</td>\n",
       "      <td>IE1</td>\n",
       "      <td>Border, Midland and Western</td>\n",
       "      <td>2016</td>\n",
       "      <td>2016</td>\n",
       "      <td>Thousand</td>\n",
       "      <td>72.5</td>\n",
       "    </tr>\n",
       "    <tr>\n",
       "      <th>4</th>\n",
       "      <td>FSA02</td>\n",
       "      <td>Number of Farms</td>\n",
       "      <td>-</td>\n",
       "      <td>All farms</td>\n",
       "      <td>IE11</td>\n",
       "      <td>Border</td>\n",
       "      <td>2013</td>\n",
       "      <td>2013</td>\n",
       "      <td>Thousand</td>\n",
       "      <td>28.7</td>\n",
       "    </tr>\n",
       "  </tbody>\n",
       "</table>\n",
       "</div>"
      ],
      "text/plain": [
       "  STATISTIC CODE        Statistic C02084V02518 Type of Farm C02196V02652  \\\n",
       "0          FSA02  Number of Farms            -    All farms            -   \n",
       "1          FSA02  Number of Farms            -    All farms            -   \n",
       "2          FSA02  Number of Farms            -    All farms          IE1   \n",
       "3          FSA02  Number of Farms            -    All farms          IE1   \n",
       "4          FSA02  Number of Farms            -    All farms         IE11   \n",
       "\n",
       "                        Region  TLIST(A1)  Year      UNIT  VALUE  \n",
       "0                        State       2013  2013  Thousand  139.6  \n",
       "1                        State       2016  2016  Thousand  137.5  \n",
       "2  Border, Midland and Western       2013  2013  Thousand   73.6  \n",
       "3  Border, Midland and Western       2016  2016  Thousand   72.5  \n",
       "4                       Border       2013  2013  Thousand   28.7  "
      ]
     },
     "execution_count": 41,
     "metadata": {},
     "output_type": "execute_result"
    }
   ],
   "source": [
    "Facts1.head()"
   ]
  },
  {
   "cell_type": "code",
   "execution_count": 42,
   "id": "5ff35438",
   "metadata": {},
   "outputs": [],
   "source": [
    "Facts2=Facts1.rename(columns={\"Type of Farm\":\"FARM_TYPE\", \"VALUE\":\"NUMBER_OF_FARMS_TYPE_000\"})"
   ]
  },
  {
   "cell_type": "code",
   "execution_count": 43,
   "id": "4ff50776",
   "metadata": {},
   "outputs": [
    {
     "data": {
      "text/html": [
       "<div>\n",
       "<style scoped>\n",
       "    .dataframe tbody tr th:only-of-type {\n",
       "        vertical-align: middle;\n",
       "    }\n",
       "\n",
       "    .dataframe tbody tr th {\n",
       "        vertical-align: top;\n",
       "    }\n",
       "\n",
       "    .dataframe thead th {\n",
       "        text-align: right;\n",
       "    }\n",
       "</style>\n",
       "<table border=\"1\" class=\"dataframe\">\n",
       "  <thead>\n",
       "    <tr style=\"text-align: right;\">\n",
       "      <th></th>\n",
       "      <th>STATISTIC CODE</th>\n",
       "      <th>Statistic</th>\n",
       "      <th>C02084V02518</th>\n",
       "      <th>FARM_TYPE</th>\n",
       "      <th>C02196V02652</th>\n",
       "      <th>Region</th>\n",
       "      <th>TLIST(A1)</th>\n",
       "      <th>Year</th>\n",
       "      <th>UNIT</th>\n",
       "      <th>NUMBER_OF_FARMS_TYPE_000</th>\n",
       "    </tr>\n",
       "  </thead>\n",
       "  <tbody>\n",
       "    <tr>\n",
       "      <th>0</th>\n",
       "      <td>FSA02</td>\n",
       "      <td>Number of Farms</td>\n",
       "      <td>-</td>\n",
       "      <td>All farms</td>\n",
       "      <td>-</td>\n",
       "      <td>State</td>\n",
       "      <td>2013</td>\n",
       "      <td>2013</td>\n",
       "      <td>Thousand</td>\n",
       "      <td>139.6</td>\n",
       "    </tr>\n",
       "    <tr>\n",
       "      <th>1</th>\n",
       "      <td>FSA02</td>\n",
       "      <td>Number of Farms</td>\n",
       "      <td>-</td>\n",
       "      <td>All farms</td>\n",
       "      <td>-</td>\n",
       "      <td>State</td>\n",
       "      <td>2016</td>\n",
       "      <td>2016</td>\n",
       "      <td>Thousand</td>\n",
       "      <td>137.5</td>\n",
       "    </tr>\n",
       "    <tr>\n",
       "      <th>2</th>\n",
       "      <td>FSA02</td>\n",
       "      <td>Number of Farms</td>\n",
       "      <td>-</td>\n",
       "      <td>All farms</td>\n",
       "      <td>IE1</td>\n",
       "      <td>Border, Midland and Western</td>\n",
       "      <td>2013</td>\n",
       "      <td>2013</td>\n",
       "      <td>Thousand</td>\n",
       "      <td>73.6</td>\n",
       "    </tr>\n",
       "    <tr>\n",
       "      <th>3</th>\n",
       "      <td>FSA02</td>\n",
       "      <td>Number of Farms</td>\n",
       "      <td>-</td>\n",
       "      <td>All farms</td>\n",
       "      <td>IE1</td>\n",
       "      <td>Border, Midland and Western</td>\n",
       "      <td>2016</td>\n",
       "      <td>2016</td>\n",
       "      <td>Thousand</td>\n",
       "      <td>72.5</td>\n",
       "    </tr>\n",
       "    <tr>\n",
       "      <th>4</th>\n",
       "      <td>FSA02</td>\n",
       "      <td>Number of Farms</td>\n",
       "      <td>-</td>\n",
       "      <td>All farms</td>\n",
       "      <td>IE11</td>\n",
       "      <td>Border</td>\n",
       "      <td>2013</td>\n",
       "      <td>2013</td>\n",
       "      <td>Thousand</td>\n",
       "      <td>28.7</td>\n",
       "    </tr>\n",
       "  </tbody>\n",
       "</table>\n",
       "</div>"
      ],
      "text/plain": [
       "  STATISTIC CODE        Statistic C02084V02518  FARM_TYPE C02196V02652  \\\n",
       "0          FSA02  Number of Farms            -  All farms            -   \n",
       "1          FSA02  Number of Farms            -  All farms            -   \n",
       "2          FSA02  Number of Farms            -  All farms          IE1   \n",
       "3          FSA02  Number of Farms            -  All farms          IE1   \n",
       "4          FSA02  Number of Farms            -  All farms         IE11   \n",
       "\n",
       "                        Region  TLIST(A1)  Year      UNIT  \\\n",
       "0                        State       2013  2013  Thousand   \n",
       "1                        State       2016  2016  Thousand   \n",
       "2  Border, Midland and Western       2013  2013  Thousand   \n",
       "3  Border, Midland and Western       2016  2016  Thousand   \n",
       "4                       Border       2013  2013  Thousand   \n",
       "\n",
       "   NUMBER_OF_FARMS_TYPE_000  \n",
       "0                     139.6  \n",
       "1                     137.5  \n",
       "2                      73.6  \n",
       "3                      72.5  \n",
       "4                      28.7  "
      ]
     },
     "execution_count": 43,
     "metadata": {},
     "output_type": "execute_result"
    }
   ],
   "source": [
    "Facts2.head()"
   ]
  },
  {
   "cell_type": "code",
   "execution_count": 44,
   "id": "59aa2a0a",
   "metadata": {},
   "outputs": [],
   "source": [
    "Facts3=Facts2[[\"FARM_TYPE\", \"Region\",\"Year\", \"NUMBER_OF_FARMS_TYPE_000\"]]"
   ]
  },
  {
   "cell_type": "code",
   "execution_count": 45,
   "id": "02fdce76",
   "metadata": {},
   "outputs": [
    {
     "data": {
      "text/html": [
       "<div>\n",
       "<style scoped>\n",
       "    .dataframe tbody tr th:only-of-type {\n",
       "        vertical-align: middle;\n",
       "    }\n",
       "\n",
       "    .dataframe tbody tr th {\n",
       "        vertical-align: top;\n",
       "    }\n",
       "\n",
       "    .dataframe thead th {\n",
       "        text-align: right;\n",
       "    }\n",
       "</style>\n",
       "<table border=\"1\" class=\"dataframe\">\n",
       "  <thead>\n",
       "    <tr style=\"text-align: right;\">\n",
       "      <th></th>\n",
       "      <th>FARM_TYPE</th>\n",
       "      <th>Region</th>\n",
       "      <th>Year</th>\n",
       "      <th>NUMBER_OF_FARMS_TYPE_000</th>\n",
       "    </tr>\n",
       "  </thead>\n",
       "  <tbody>\n",
       "    <tr>\n",
       "      <th>0</th>\n",
       "      <td>All farms</td>\n",
       "      <td>State</td>\n",
       "      <td>2013</td>\n",
       "      <td>139.6</td>\n",
       "    </tr>\n",
       "    <tr>\n",
       "      <th>1</th>\n",
       "      <td>All farms</td>\n",
       "      <td>State</td>\n",
       "      <td>2016</td>\n",
       "      <td>137.5</td>\n",
       "    </tr>\n",
       "    <tr>\n",
       "      <th>2</th>\n",
       "      <td>All farms</td>\n",
       "      <td>Border, Midland and Western</td>\n",
       "      <td>2013</td>\n",
       "      <td>73.6</td>\n",
       "    </tr>\n",
       "    <tr>\n",
       "      <th>3</th>\n",
       "      <td>All farms</td>\n",
       "      <td>Border, Midland and Western</td>\n",
       "      <td>2016</td>\n",
       "      <td>72.5</td>\n",
       "    </tr>\n",
       "    <tr>\n",
       "      <th>4</th>\n",
       "      <td>All farms</td>\n",
       "      <td>Border</td>\n",
       "      <td>2013</td>\n",
       "      <td>28.7</td>\n",
       "    </tr>\n",
       "  </tbody>\n",
       "</table>\n",
       "</div>"
      ],
      "text/plain": [
       "   FARM_TYPE                       Region  Year  NUMBER_OF_FARMS_TYPE_000\n",
       "0  All farms                        State  2013                     139.6\n",
       "1  All farms                        State  2016                     137.5\n",
       "2  All farms  Border, Midland and Western  2013                      73.6\n",
       "3  All farms  Border, Midland and Western  2016                      72.5\n",
       "4  All farms                       Border  2013                      28.7"
      ]
     },
     "execution_count": 45,
     "metadata": {},
     "output_type": "execute_result"
    }
   ],
   "source": [
    "Facts3.head()"
   ]
  },
  {
   "cell_type": "code",
   "execution_count": 46,
   "id": "c020fd63",
   "metadata": {},
   "outputs": [
    {
     "data": {
      "text/plain": [
       "FARM_TYPE                   0\n",
       "Region                      0\n",
       "Year                        0\n",
       "NUMBER_OF_FARMS_TYPE_000    0\n",
       "dtype: int64"
      ]
     },
     "execution_count": 46,
     "metadata": {},
     "output_type": "execute_result"
    }
   ],
   "source": [
    "Facts3.isnull().sum()"
   ]
  },
  {
   "cell_type": "code",
   "execution_count": 158,
   "id": "e25484fe",
   "metadata": {},
   "outputs": [
    {
     "data": {
      "text/plain": [
       "0"
      ]
     },
     "execution_count": 158,
     "metadata": {},
     "output_type": "execute_result"
    }
   ],
   "source": [
    "Facts3.duplicated().sum()"
   ]
  },
  {
   "cell_type": "code",
   "execution_count": 159,
   "id": "6f8d52ae",
   "metadata": {},
   "outputs": [
    {
     "data": {
      "text/html": [
       "<div>\n",
       "<style scoped>\n",
       "    .dataframe tbody tr th:only-of-type {\n",
       "        vertical-align: middle;\n",
       "    }\n",
       "\n",
       "    .dataframe tbody tr th {\n",
       "        vertical-align: top;\n",
       "    }\n",
       "\n",
       "    .dataframe thead th {\n",
       "        text-align: right;\n",
       "    }\n",
       "</style>\n",
       "<table border=\"1\" class=\"dataframe\">\n",
       "  <thead>\n",
       "    <tr style=\"text-align: right;\">\n",
       "      <th></th>\n",
       "      <th>Year</th>\n",
       "      <th>NUMBER_OF_FARMS_TYPE_000</th>\n",
       "    </tr>\n",
       "  </thead>\n",
       "  <tbody>\n",
       "    <tr>\n",
       "      <th>count</th>\n",
       "      <td>180.000000</td>\n",
       "      <td>180.000000</td>\n",
       "    </tr>\n",
       "    <tr>\n",
       "      <th>mean</th>\n",
       "      <td>2014.500000</td>\n",
       "      <td>9.238889</td>\n",
       "    </tr>\n",
       "    <tr>\n",
       "      <th>std</th>\n",
       "      <td>1.504184</td>\n",
       "      <td>20.058622</td>\n",
       "    </tr>\n",
       "    <tr>\n",
       "      <th>min</th>\n",
       "      <td>2013.000000</td>\n",
       "      <td>0.100000</td>\n",
       "    </tr>\n",
       "    <tr>\n",
       "      <th>25%</th>\n",
       "      <td>2013.000000</td>\n",
       "      <td>0.700000</td>\n",
       "    </tr>\n",
       "    <tr>\n",
       "      <th>50%</th>\n",
       "      <td>2014.500000</td>\n",
       "      <td>1.700000</td>\n",
       "    </tr>\n",
       "    <tr>\n",
       "      <th>75%</th>\n",
       "      <td>2016.000000</td>\n",
       "      <td>8.800000</td>\n",
       "    </tr>\n",
       "    <tr>\n",
       "      <th>max</th>\n",
       "      <td>2016.000000</td>\n",
       "      <td>139.600000</td>\n",
       "    </tr>\n",
       "  </tbody>\n",
       "</table>\n",
       "</div>"
      ],
      "text/plain": [
       "              Year  NUMBER_OF_FARMS_TYPE_000\n",
       "count   180.000000                180.000000\n",
       "mean   2014.500000                  9.238889\n",
       "std       1.504184                 20.058622\n",
       "min    2013.000000                  0.100000\n",
       "25%    2013.000000                  0.700000\n",
       "50%    2014.500000                  1.700000\n",
       "75%    2016.000000                  8.800000\n",
       "max    2016.000000                139.600000"
      ]
     },
     "execution_count": 159,
     "metadata": {},
     "output_type": "execute_result"
    }
   ],
   "source": [
    "Facts3.describe()"
   ]
  },
  {
   "cell_type": "code",
   "execution_count": 160,
   "id": "c36018f4",
   "metadata": {},
   "outputs": [
    {
     "data": {
      "text/plain": [
       "array([[<AxesSubplot:title={'center':'NUMBER_OF_FARMS_TYPE_000'}>]],\n",
       "      dtype=object)"
      ]
     },
     "execution_count": 160,
     "metadata": {},
     "output_type": "execute_result"
    },
    {
     "data": {
      "image/png": "[encoded data removed]",
      "text/plain": [
       "<Figure size 432x288 with 1 Axes>"
      ]
     },
     "metadata": {
      "needs_background": "light"
     },
     "output_type": "display_data"
    }
   ],
   "source": [
    "Facts3.hist(\"NUMBER_OF_FARMS_TYPE_000\")"
   ]
  },
  {
   "cell_type": "code",
   "execution_count": null,
   "id": "90b9d813",
   "metadata": {},
   "outputs": [],
   "source": [
    "#Number of farm types in 2016"
   ]
  },
  {
   "cell_type": "code",
   "execution_count": 50,
   "id": "9964bedb",
   "metadata": {},
   "outputs": [],
   "source": [
    "Facts4=Facts3[Facts3[\"Year\"] == 2016]"
   ]
  },
  {
   "cell_type": "code",
   "execution_count": 51,
   "id": "ff7f00e2",
   "metadata": {},
   "outputs": [
    {
     "data": {
      "text/html": [
       "<div>\n",
       "<style scoped>\n",
       "    .dataframe tbody tr th:only-of-type {\n",
       "        vertical-align: middle;\n",
       "    }\n",
       "\n",
       "    .dataframe tbody tr th {\n",
       "        vertical-align: top;\n",
       "    }\n",
       "\n",
       "    .dataframe thead th {\n",
       "        text-align: right;\n",
       "    }\n",
       "</style>\n",
       "<table border=\"1\" class=\"dataframe\">\n",
       "  <thead>\n",
       "    <tr style=\"text-align: right;\">\n",
       "      <th></th>\n",
       "      <th>FARM_TYPE</th>\n",
       "      <th>Region</th>\n",
       "      <th>Year</th>\n",
       "      <th>NUMBER_OF_FARMS_TYPE_000</th>\n",
       "    </tr>\n",
       "  </thead>\n",
       "  <tbody>\n",
       "    <tr>\n",
       "      <th>1</th>\n",
       "      <td>All farms</td>\n",
       "      <td>State</td>\n",
       "      <td>2016</td>\n",
       "      <td>137.5</td>\n",
       "    </tr>\n",
       "    <tr>\n",
       "      <th>3</th>\n",
       "      <td>All farms</td>\n",
       "      <td>Border, Midland and Western</td>\n",
       "      <td>2016</td>\n",
       "      <td>72.5</td>\n",
       "    </tr>\n",
       "    <tr>\n",
       "      <th>5</th>\n",
       "      <td>All farms</td>\n",
       "      <td>Border</td>\n",
       "      <td>2016</td>\n",
       "      <td>28.4</td>\n",
       "    </tr>\n",
       "    <tr>\n",
       "      <th>7</th>\n",
       "      <td>All farms</td>\n",
       "      <td>Midland</td>\n",
       "      <td>2016</td>\n",
       "      <td>12.8</td>\n",
       "    </tr>\n",
       "    <tr>\n",
       "      <th>9</th>\n",
       "      <td>All farms</td>\n",
       "      <td>West</td>\n",
       "      <td>2016</td>\n",
       "      <td>31.4</td>\n",
       "    </tr>\n",
       "  </tbody>\n",
       "</table>\n",
       "</div>"
      ],
      "text/plain": [
       "   FARM_TYPE                       Region  Year  NUMBER_OF_FARMS_TYPE_000\n",
       "1  All farms                        State  2016                     137.5\n",
       "3  All farms  Border, Midland and Western  2016                      72.5\n",
       "5  All farms                       Border  2016                      28.4\n",
       "7  All farms                      Midland  2016                      12.8\n",
       "9  All farms                         West  2016                      31.4"
      ]
     },
     "execution_count": 51,
     "metadata": {},
     "output_type": "execute_result"
    }
   ],
   "source": [
    "Facts4.head()"
   ]
  },
  {
   "cell_type": "code",
   "execution_count": null,
   "id": "004a9eb5",
   "metadata": {},
   "outputs": [],
   "source": [
    "#Type of farms in Border, Midland and Western region"
   ]
  },
  {
   "cell_type": "code",
   "execution_count": 52,
   "id": "d7025926",
   "metadata": {},
   "outputs": [],
   "source": [
    "Facts5= Facts4[Facts4[\"Region\"] == \"Border, Midland and Western\"]"
   ]
  },
  {
   "cell_type": "code",
   "execution_count": 53,
   "id": "2959a0f2",
   "metadata": {},
   "outputs": [
    {
     "data": {
      "text/html": [
       "<div>\n",
       "<style scoped>\n",
       "    .dataframe tbody tr th:only-of-type {\n",
       "        vertical-align: middle;\n",
       "    }\n",
       "\n",
       "    .dataframe tbody tr th {\n",
       "        vertical-align: top;\n",
       "    }\n",
       "\n",
       "    .dataframe thead th {\n",
       "        text-align: right;\n",
       "    }\n",
       "</style>\n",
       "<table border=\"1\" class=\"dataframe\">\n",
       "  <thead>\n",
       "    <tr style=\"text-align: right;\">\n",
       "      <th></th>\n",
       "      <th>FARM_TYPE</th>\n",
       "      <th>Region</th>\n",
       "      <th>Year</th>\n",
       "      <th>NUMBER_OF_FARMS_TYPE_000</th>\n",
       "    </tr>\n",
       "  </thead>\n",
       "  <tbody>\n",
       "    <tr>\n",
       "      <th>3</th>\n",
       "      <td>All farms</td>\n",
       "      <td>Border, Midland and Western</td>\n",
       "      <td>2016</td>\n",
       "      <td>72.5</td>\n",
       "    </tr>\n",
       "    <tr>\n",
       "      <th>23</th>\n",
       "      <td>Specialist tillage</td>\n",
       "      <td>Border, Midland and Western</td>\n",
       "      <td>2016</td>\n",
       "      <td>1.0</td>\n",
       "    </tr>\n",
       "    <tr>\n",
       "      <th>43</th>\n",
       "      <td>Specialist dairying</td>\n",
       "      <td>Border, Midland and Western</td>\n",
       "      <td>2016</td>\n",
       "      <td>3.6</td>\n",
       "    </tr>\n",
       "    <tr>\n",
       "      <th>63</th>\n",
       "      <td>Specialist beef production</td>\n",
       "      <td>Border, Midland and Western</td>\n",
       "      <td>2016</td>\n",
       "      <td>46.0</td>\n",
       "    </tr>\n",
       "    <tr>\n",
       "      <th>83</th>\n",
       "      <td>Specialist sheep</td>\n",
       "      <td>Border, Midland and Western</td>\n",
       "      <td>2016</td>\n",
       "      <td>10.3</td>\n",
       "    </tr>\n",
       "  </tbody>\n",
       "</table>\n",
       "</div>"
      ],
      "text/plain": [
       "                     FARM_TYPE                       Region  Year  \\\n",
       "3                    All farms  Border, Midland and Western  2016   \n",
       "23          Specialist tillage  Border, Midland and Western  2016   \n",
       "43         Specialist dairying  Border, Midland and Western  2016   \n",
       "63  Specialist beef production  Border, Midland and Western  2016   \n",
       "83            Specialist sheep  Border, Midland and Western  2016   \n",
       "\n",
       "    NUMBER_OF_FARMS_TYPE_000  \n",
       "3                       72.5  \n",
       "23                       1.0  \n",
       "43                       3.6  \n",
       "63                      46.0  \n",
       "83                      10.3  "
      ]
     },
     "execution_count": 53,
     "metadata": {},
     "output_type": "execute_result"
    }
   ],
   "source": [
    "Facts5.head()"
   ]
  },
  {
   "cell_type": "code",
   "execution_count": 54,
   "id": "fc41e439",
   "metadata": {},
   "outputs": [],
   "source": [
    "Facts6 = Facts5.groupby(\"FARM_TYPE\")[\"NUMBER_OF_FARMS_TYPE_000\"].sum().sort_values()"
   ]
  },
  {
   "cell_type": "code",
   "execution_count": 55,
   "id": "2e7c45e7",
   "metadata": {},
   "outputs": [
    {
     "data": {
      "text/plain": [
       "FARM_TYPE\n",
       "Mixed crops and livestock      0.6\n",
       "Other                          0.6\n",
       "Specialist tillage             1.0\n",
       "Specialist dairying            3.6\n",
       "Mixed field crops              3.9\n",
       "Mixed grazing livestock        6.5\n",
       "Specialist sheep              10.3\n",
       "Specialist beef production    46.0\n",
       "All farms                     72.5\n",
       "Name: NUMBER_OF_FARMS_TYPE_000, dtype: float64"
      ]
     },
     "execution_count": 55,
     "metadata": {},
     "output_type": "execute_result"
    }
   ],
   "source": [
    "Facts6"
   ]
  },
  {
   "cell_type": "code",
   "execution_count": 242,
   "id": "a5537ff7",
   "metadata": {},
   "outputs": [
    {
     "data": {
      "text/plain": [
       "Text(-113.5, 0.5, 'Farm Type')"
      ]
     },
     "execution_count": 242,
     "metadata": {},
     "output_type": "execute_result"
    },
    {
     "data": {
      "image/png": "[encoded data removed]",
      "text/plain": [
       "<Figure size 432x288 with 1 Axes>"
      ]
     },
     "metadata": {
      "needs_background": "light"
     },
     "output_type": "display_data"
    }
   ],
   "source": [
    "Facts6.plot(kind='barh', x='FARM_TYPE', y='NUMBER_OF_FARMS_TYPE_000', color=\"green\")\n",
    "plt.tight_layout()\n",
    "plt.rcParams.update({'font.size': 12})\n",
    "\n",
    "plt.title(\"Types of Farms in the 'Border, Midland and Western region' in Ireland in 2016\")\n",
    "plt.xlabel(\"Number of Farms (000)\")\n",
    "plt.ylabel(\"Farm Type\")"
   ]
  },
  {
   "cell_type": "code",
   "execution_count": 244,
   "id": "ae3e7feb",
   "metadata": {},
   "outputs": [
    {
     "data": {
      "text/plain": [
       "63.44827586206897"
      ]
     },
     "execution_count": 244,
     "metadata": {},
     "output_type": "execute_result"
    }
   ],
   "source": [
    "46/72.5*100"
   ]
  },
  {
   "cell_type": "code",
   "execution_count": null,
   "id": "a85f252e",
   "metadata": {},
   "outputs": [],
   "source": [
    "#Importing data set 3"
   ]
  },
  {
   "cell_type": "code",
   "execution_count": 65,
   "id": "30788829",
   "metadata": {},
   "outputs": [],
   "source": [
    "Figures1=pd.read_csv(\"https://ws.cso.ie/public/api.restful/PxStat.Data.Cube_API.ReadDataset/FSA07/CSV/1.0/en\")"
   ]
  },
  {
   "cell_type": "code",
   "execution_count": 66,
   "id": "a03febf7",
   "metadata": {},
   "outputs": [
    {
     "data": {
      "text/html": [
       "<div>\n",
       "<style scoped>\n",
       "    .dataframe tbody tr th:only-of-type {\n",
       "        vertical-align: middle;\n",
       "    }\n",
       "\n",
       "    .dataframe tbody tr th {\n",
       "        vertical-align: top;\n",
       "    }\n",
       "\n",
       "    .dataframe thead th {\n",
       "        text-align: right;\n",
       "    }\n",
       "</style>\n",
       "<table border=\"1\" class=\"dataframe\">\n",
       "  <thead>\n",
       "    <tr style=\"text-align: right;\">\n",
       "      <th></th>\n",
       "      <th>C02084V02518</th>\n",
       "      <th>Type of Farm</th>\n",
       "      <th>TLIST(A1)</th>\n",
       "      <th>Year</th>\n",
       "      <th>STATISTIC CODE</th>\n",
       "      <th>Statistic</th>\n",
       "      <th>UNIT</th>\n",
       "      <th>VALUE</th>\n",
       "    </tr>\n",
       "  </thead>\n",
       "  <tbody>\n",
       "    <tr>\n",
       "      <th>0</th>\n",
       "      <td>-</td>\n",
       "      <td>All farms</td>\n",
       "      <td>2013</td>\n",
       "      <td>2013</td>\n",
       "      <td>FSA07C01</td>\n",
       "      <td>Average Farm Size</td>\n",
       "      <td>Thousand</td>\n",
       "      <td>32.5</td>\n",
       "    </tr>\n",
       "    <tr>\n",
       "      <th>1</th>\n",
       "      <td>-</td>\n",
       "      <td>All farms</td>\n",
       "      <td>2013</td>\n",
       "      <td>2013</td>\n",
       "      <td>FSA07C02</td>\n",
       "      <td>Average Farm Economic Size</td>\n",
       "      <td>Euro</td>\n",
       "      <td>35912.0</td>\n",
       "    </tr>\n",
       "    <tr>\n",
       "      <th>2</th>\n",
       "      <td>-</td>\n",
       "      <td>All farms</td>\n",
       "      <td>2016</td>\n",
       "      <td>2016</td>\n",
       "      <td>FSA07C01</td>\n",
       "      <td>Average Farm Size</td>\n",
       "      <td>Thousand</td>\n",
       "      <td>32.4</td>\n",
       "    </tr>\n",
       "    <tr>\n",
       "      <th>3</th>\n",
       "      <td>-</td>\n",
       "      <td>All farms</td>\n",
       "      <td>2016</td>\n",
       "      <td>2016</td>\n",
       "      <td>FSA07C02</td>\n",
       "      <td>Average Farm Economic Size</td>\n",
       "      <td>Euro</td>\n",
       "      <td>45855.0</td>\n",
       "    </tr>\n",
       "    <tr>\n",
       "      <th>4</th>\n",
       "      <td>01</td>\n",
       "      <td>Specialist tillage</td>\n",
       "      <td>2013</td>\n",
       "      <td>2013</td>\n",
       "      <td>FSA07C01</td>\n",
       "      <td>Average Farm Size</td>\n",
       "      <td>Thousand</td>\n",
       "      <td>56.8</td>\n",
       "    </tr>\n",
       "  </tbody>\n",
       "</table>\n",
       "</div>"
      ],
      "text/plain": [
       "  C02084V02518        Type of Farm  TLIST(A1)  Year STATISTIC CODE  \\\n",
       "0            -           All farms       2013  2013       FSA07C01   \n",
       "1            -           All farms       2013  2013       FSA07C02   \n",
       "2            -           All farms       2016  2016       FSA07C01   \n",
       "3            -           All farms       2016  2016       FSA07C02   \n",
       "4           01  Specialist tillage       2013  2013       FSA07C01   \n",
       "\n",
       "                    Statistic      UNIT    VALUE  \n",
       "0           Average Farm Size  Thousand     32.5  \n",
       "1  Average Farm Economic Size      Euro  35912.0  \n",
       "2           Average Farm Size  Thousand     32.4  \n",
       "3  Average Farm Economic Size      Euro  45855.0  \n",
       "4           Average Farm Size  Thousand     56.8  "
      ]
     },
     "execution_count": 66,
     "metadata": {},
     "output_type": "execute_result"
    }
   ],
   "source": [
    "Figures1.head()"
   ]
  },
  {
   "cell_type": "code",
   "execution_count": 83,
   "id": "937368dd",
   "metadata": {},
   "outputs": [],
   "source": [
    "Figures2=Figures1[Figures1.UNIT != 'Euro']"
   ]
  },
  {
   "cell_type": "code",
   "execution_count": 84,
   "id": "183faf30",
   "metadata": {},
   "outputs": [
    {
     "data": {
      "text/html": [
       "<div>\n",
       "<style scoped>\n",
       "    .dataframe tbody tr th:only-of-type {\n",
       "        vertical-align: middle;\n",
       "    }\n",
       "\n",
       "    .dataframe tbody tr th {\n",
       "        vertical-align: top;\n",
       "    }\n",
       "\n",
       "    .dataframe thead th {\n",
       "        text-align: right;\n",
       "    }\n",
       "</style>\n",
       "<table border=\"1\" class=\"dataframe\">\n",
       "  <thead>\n",
       "    <tr style=\"text-align: right;\">\n",
       "      <th></th>\n",
       "      <th>C02084V02518</th>\n",
       "      <th>Type of Farm</th>\n",
       "      <th>TLIST(A1)</th>\n",
       "      <th>Year</th>\n",
       "      <th>STATISTIC CODE</th>\n",
       "      <th>Statistic</th>\n",
       "      <th>UNIT</th>\n",
       "      <th>VALUE</th>\n",
       "    </tr>\n",
       "  </thead>\n",
       "  <tbody>\n",
       "    <tr>\n",
       "      <th>0</th>\n",
       "      <td>-</td>\n",
       "      <td>All farms</td>\n",
       "      <td>2013</td>\n",
       "      <td>2013</td>\n",
       "      <td>FSA07C01</td>\n",
       "      <td>Average Farm Size</td>\n",
       "      <td>Thousand</td>\n",
       "      <td>32.5</td>\n",
       "    </tr>\n",
       "    <tr>\n",
       "      <th>2</th>\n",
       "      <td>-</td>\n",
       "      <td>All farms</td>\n",
       "      <td>2016</td>\n",
       "      <td>2016</td>\n",
       "      <td>FSA07C01</td>\n",
       "      <td>Average Farm Size</td>\n",
       "      <td>Thousand</td>\n",
       "      <td>32.4</td>\n",
       "    </tr>\n",
       "    <tr>\n",
       "      <th>4</th>\n",
       "      <td>01</td>\n",
       "      <td>Specialist tillage</td>\n",
       "      <td>2013</td>\n",
       "      <td>2013</td>\n",
       "      <td>FSA07C01</td>\n",
       "      <td>Average Farm Size</td>\n",
       "      <td>Thousand</td>\n",
       "      <td>56.8</td>\n",
       "    </tr>\n",
       "    <tr>\n",
       "      <th>6</th>\n",
       "      <td>01</td>\n",
       "      <td>Specialist tillage</td>\n",
       "      <td>2016</td>\n",
       "      <td>2016</td>\n",
       "      <td>FSA07C01</td>\n",
       "      <td>Average Farm Size</td>\n",
       "      <td>Thousand</td>\n",
       "      <td>58.6</td>\n",
       "    </tr>\n",
       "    <tr>\n",
       "      <th>8</th>\n",
       "      <td>02</td>\n",
       "      <td>Specialist dairying</td>\n",
       "      <td>2013</td>\n",
       "      <td>2013</td>\n",
       "      <td>FSA07C01</td>\n",
       "      <td>Average Farm Size</td>\n",
       "      <td>Thousand</td>\n",
       "      <td>55.9</td>\n",
       "    </tr>\n",
       "  </tbody>\n",
       "</table>\n",
       "</div>"
      ],
      "text/plain": [
       "  C02084V02518         Type of Farm  TLIST(A1)  Year STATISTIC CODE  \\\n",
       "0            -            All farms       2013  2013       FSA07C01   \n",
       "2            -            All farms       2016  2016       FSA07C01   \n",
       "4           01   Specialist tillage       2013  2013       FSA07C01   \n",
       "6           01   Specialist tillage       2016  2016       FSA07C01   \n",
       "8           02  Specialist dairying       2013  2013       FSA07C01   \n",
       "\n",
       "           Statistic      UNIT  VALUE  \n",
       "0  Average Farm Size  Thousand   32.5  \n",
       "2  Average Farm Size  Thousand   32.4  \n",
       "4  Average Farm Size  Thousand   56.8  \n",
       "6  Average Farm Size  Thousand   58.6  \n",
       "8  Average Farm Size  Thousand   55.9  "
      ]
     },
     "execution_count": 84,
     "metadata": {},
     "output_type": "execute_result"
    }
   ],
   "source": [
    "Figures2.head()"
   ]
  },
  {
   "cell_type": "code",
   "execution_count": 86,
   "id": "941a3ead",
   "metadata": {},
   "outputs": [
    {
     "data": {
      "text/html": [
       "<div>\n",
       "<style scoped>\n",
       "    .dataframe tbody tr th:only-of-type {\n",
       "        vertical-align: middle;\n",
       "    }\n",
       "\n",
       "    .dataframe tbody tr th {\n",
       "        vertical-align: top;\n",
       "    }\n",
       "\n",
       "    .dataframe thead th {\n",
       "        text-align: right;\n",
       "    }\n",
       "</style>\n",
       "<table border=\"1\" class=\"dataframe\">\n",
       "  <thead>\n",
       "    <tr style=\"text-align: right;\">\n",
       "      <th></th>\n",
       "      <th>C02084V02518</th>\n",
       "      <th>Type of Farm</th>\n",
       "      <th>TLIST(A1)</th>\n",
       "      <th>Year</th>\n",
       "      <th>STATISTIC CODE</th>\n",
       "      <th>Statistic</th>\n",
       "      <th>UNIT</th>\n",
       "      <th>VALUE</th>\n",
       "    </tr>\n",
       "  </thead>\n",
       "  <tbody>\n",
       "    <tr>\n",
       "      <th>1</th>\n",
       "      <td>-</td>\n",
       "      <td>All farms</td>\n",
       "      <td>2013</td>\n",
       "      <td>2013</td>\n",
       "      <td>FSA07C02</td>\n",
       "      <td>Average Farm Economic Size</td>\n",
       "      <td>Euro</td>\n",
       "      <td>35912.0</td>\n",
       "    </tr>\n",
       "    <tr>\n",
       "      <th>3</th>\n",
       "      <td>-</td>\n",
       "      <td>All farms</td>\n",
       "      <td>2016</td>\n",
       "      <td>2016</td>\n",
       "      <td>FSA07C02</td>\n",
       "      <td>Average Farm Economic Size</td>\n",
       "      <td>Euro</td>\n",
       "      <td>45855.0</td>\n",
       "    </tr>\n",
       "    <tr>\n",
       "      <th>5</th>\n",
       "      <td>01</td>\n",
       "      <td>Specialist tillage</td>\n",
       "      <td>2013</td>\n",
       "      <td>2013</td>\n",
       "      <td>FSA07C02</td>\n",
       "      <td>Average Farm Economic Size</td>\n",
       "      <td>Euro</td>\n",
       "      <td>86271.0</td>\n",
       "    </tr>\n",
       "    <tr>\n",
       "      <th>7</th>\n",
       "      <td>01</td>\n",
       "      <td>Specialist tillage</td>\n",
       "      <td>2016</td>\n",
       "      <td>2016</td>\n",
       "      <td>FSA07C02</td>\n",
       "      <td>Average Farm Economic Size</td>\n",
       "      <td>Euro</td>\n",
       "      <td>96941.0</td>\n",
       "    </tr>\n",
       "    <tr>\n",
       "      <th>9</th>\n",
       "      <td>02</td>\n",
       "      <td>Specialist dairying</td>\n",
       "      <td>2013</td>\n",
       "      <td>2013</td>\n",
       "      <td>FSA07C02</td>\n",
       "      <td>Average Farm Economic Size</td>\n",
       "      <td>Euro</td>\n",
       "      <td>134536.0</td>\n",
       "    </tr>\n",
       "  </tbody>\n",
       "</table>\n",
       "</div>"
      ],
      "text/plain": [
       "  C02084V02518         Type of Farm  TLIST(A1)  Year STATISTIC CODE  \\\n",
       "1            -            All farms       2013  2013       FSA07C02   \n",
       "3            -            All farms       2016  2016       FSA07C02   \n",
       "5           01   Specialist tillage       2013  2013       FSA07C02   \n",
       "7           01   Specialist tillage       2016  2016       FSA07C02   \n",
       "9           02  Specialist dairying       2013  2013       FSA07C02   \n",
       "\n",
       "                    Statistic  UNIT     VALUE  \n",
       "1  Average Farm Economic Size  Euro   35912.0  \n",
       "3  Average Farm Economic Size  Euro   45855.0  \n",
       "5  Average Farm Economic Size  Euro   86271.0  \n",
       "7  Average Farm Economic Size  Euro   96941.0  \n",
       "9  Average Farm Economic Size  Euro  134536.0  "
      ]
     },
     "execution_count": 86,
     "metadata": {},
     "output_type": "execute_result"
    }
   ],
   "source": [
    "Figures3.head()"
   ]
  },
  {
   "cell_type": "code",
   "execution_count": 87,
   "id": "5001351f",
   "metadata": {},
   "outputs": [],
   "source": [
    "Figures3=Figures2.rename(columns={\"Type of Farm\":\"FARM_TYPE\", \"VALUE\":\"AVERAGE_FARM_AREA_000\"})"
   ]
  },
  {
   "cell_type": "code",
   "execution_count": 88,
   "id": "416749eb",
   "metadata": {},
   "outputs": [
    {
     "data": {
      "text/plain": [
       "C02084V02518             0\n",
       "FARM_TYPE                0\n",
       "TLIST(A1)                0\n",
       "Year                     0\n",
       "STATISTIC CODE           0\n",
       "Statistic                0\n",
       "UNIT                     0\n",
       "AVERAGE_FARM_AREA_000    0\n",
       "dtype: int64"
      ]
     },
     "execution_count": 88,
     "metadata": {},
     "output_type": "execute_result"
    }
   ],
   "source": [
    "Figures3.isnull().sum()"
   ]
  },
  {
   "cell_type": "code",
   "execution_count": 89,
   "id": "4f3377e5",
   "metadata": {},
   "outputs": [
    {
     "data": {
      "text/plain": [
       "0"
      ]
     },
     "execution_count": 89,
     "metadata": {},
     "output_type": "execute_result"
    }
   ],
   "source": [
    "Figures3.duplicated().sum()"
   ]
  },
  {
   "cell_type": "code",
   "execution_count": 90,
   "id": "1bc3a824",
   "metadata": {},
   "outputs": [
    {
     "data": {
      "text/html": [
       "<div>\n",
       "<style scoped>\n",
       "    .dataframe tbody tr th:only-of-type {\n",
       "        vertical-align: middle;\n",
       "    }\n",
       "\n",
       "    .dataframe tbody tr th {\n",
       "        vertical-align: top;\n",
       "    }\n",
       "\n",
       "    .dataframe thead th {\n",
       "        text-align: right;\n",
       "    }\n",
       "</style>\n",
       "<table border=\"1\" class=\"dataframe\">\n",
       "  <thead>\n",
       "    <tr style=\"text-align: right;\">\n",
       "      <th></th>\n",
       "      <th>TLIST(A1)</th>\n",
       "      <th>Year</th>\n",
       "      <th>AVERAGE_FARM_AREA_000</th>\n",
       "    </tr>\n",
       "  </thead>\n",
       "  <tbody>\n",
       "    <tr>\n",
       "      <th>count</th>\n",
       "      <td>18.000000</td>\n",
       "      <td>18.000000</td>\n",
       "      <td>18.000000</td>\n",
       "    </tr>\n",
       "    <tr>\n",
       "      <th>mean</th>\n",
       "      <td>2014.500000</td>\n",
       "      <td>2014.500000</td>\n",
       "      <td>37.922222</td>\n",
       "    </tr>\n",
       "    <tr>\n",
       "      <th>std</th>\n",
       "      <td>1.543487</td>\n",
       "      <td>1.543487</td>\n",
       "      <td>15.608880</td>\n",
       "    </tr>\n",
       "    <tr>\n",
       "      <th>min</th>\n",
       "      <td>2013.000000</td>\n",
       "      <td>2013.000000</td>\n",
       "      <td>15.400000</td>\n",
       "    </tr>\n",
       "    <tr>\n",
       "      <th>25%</th>\n",
       "      <td>2013.000000</td>\n",
       "      <td>2013.000000</td>\n",
       "      <td>27.075000</td>\n",
       "    </tr>\n",
       "    <tr>\n",
       "      <th>50%</th>\n",
       "      <td>2014.500000</td>\n",
       "      <td>2014.500000</td>\n",
       "      <td>32.450000</td>\n",
       "    </tr>\n",
       "    <tr>\n",
       "      <th>75%</th>\n",
       "      <td>2016.000000</td>\n",
       "      <td>2016.000000</td>\n",
       "      <td>56.575000</td>\n",
       "    </tr>\n",
       "    <tr>\n",
       "      <th>max</th>\n",
       "      <td>2016.000000</td>\n",
       "      <td>2016.000000</td>\n",
       "      <td>59.200000</td>\n",
       "    </tr>\n",
       "  </tbody>\n",
       "</table>\n",
       "</div>"
      ],
      "text/plain": [
       "         TLIST(A1)         Year  AVERAGE_FARM_AREA_000\n",
       "count    18.000000    18.000000              18.000000\n",
       "mean   2014.500000  2014.500000              37.922222\n",
       "std       1.543487     1.543487              15.608880\n",
       "min    2013.000000  2013.000000              15.400000\n",
       "25%    2013.000000  2013.000000              27.075000\n",
       "50%    2014.500000  2014.500000              32.450000\n",
       "75%    2016.000000  2016.000000              56.575000\n",
       "max    2016.000000  2016.000000              59.200000"
      ]
     },
     "execution_count": 90,
     "metadata": {},
     "output_type": "execute_result"
    }
   ],
   "source": [
    "Figures3.describe()"
   ]
  },
  {
   "cell_type": "code",
   "execution_count": 91,
   "id": "c7e6037f",
   "metadata": {},
   "outputs": [
    {
     "data": {
      "text/plain": [
       "array([[<AxesSubplot:title={'center':'AVERAGE_FARM_AREA_000'}>]],\n",
       "      dtype=object)"
      ]
     },
     "execution_count": 91,
     "metadata": {},
     "output_type": "execute_result"
    },
    {
     "data": {
      "image/png": "[encoded data removed]",
      "text/plain": [
       "<Figure size 432x288 with 1 Axes>"
      ]
     },
     "metadata": {
      "needs_background": "light"
     },
     "output_type": "display_data"
    }
   ],
   "source": [
    "Figures3.hist(\"AVERAGE_FARM_AREA_000\")"
   ]
  },
  {
   "cell_type": "code",
   "execution_count": null,
   "id": "d75b3b43",
   "metadata": {},
   "outputs": [],
   "source": [
    "#Merge two data sets"
   ]
  },
  {
   "cell_type": "code",
   "execution_count": 92,
   "id": "34d9bd8f",
   "metadata": {},
   "outputs": [],
   "source": [
    "Figures4=Figures3[[\"FARM_TYPE\", \"Year\", \"AVERAGE_FARM_AREA_000\"]]"
   ]
  },
  {
   "cell_type": "code",
   "execution_count": 93,
   "id": "35a47ccc",
   "metadata": {},
   "outputs": [
    {
     "data": {
      "text/html": [
       "<div>\n",
       "<style scoped>\n",
       "    .dataframe tbody tr th:only-of-type {\n",
       "        vertical-align: middle;\n",
       "    }\n",
       "\n",
       "    .dataframe tbody tr th {\n",
       "        vertical-align: top;\n",
       "    }\n",
       "\n",
       "    .dataframe thead th {\n",
       "        text-align: right;\n",
       "    }\n",
       "</style>\n",
       "<table border=\"1\" class=\"dataframe\">\n",
       "  <thead>\n",
       "    <tr style=\"text-align: right;\">\n",
       "      <th></th>\n",
       "      <th>FARM_TYPE</th>\n",
       "      <th>Year</th>\n",
       "      <th>AVERAGE_FARM_AREA_000</th>\n",
       "    </tr>\n",
       "  </thead>\n",
       "  <tbody>\n",
       "    <tr>\n",
       "      <th>0</th>\n",
       "      <td>All farms</td>\n",
       "      <td>2013</td>\n",
       "      <td>32.5</td>\n",
       "    </tr>\n",
       "    <tr>\n",
       "      <th>2</th>\n",
       "      <td>All farms</td>\n",
       "      <td>2016</td>\n",
       "      <td>32.4</td>\n",
       "    </tr>\n",
       "    <tr>\n",
       "      <th>4</th>\n",
       "      <td>Specialist tillage</td>\n",
       "      <td>2013</td>\n",
       "      <td>56.8</td>\n",
       "    </tr>\n",
       "    <tr>\n",
       "      <th>6</th>\n",
       "      <td>Specialist tillage</td>\n",
       "      <td>2016</td>\n",
       "      <td>58.6</td>\n",
       "    </tr>\n",
       "    <tr>\n",
       "      <th>8</th>\n",
       "      <td>Specialist dairying</td>\n",
       "      <td>2013</td>\n",
       "      <td>55.9</td>\n",
       "    </tr>\n",
       "  </tbody>\n",
       "</table>\n",
       "</div>"
      ],
      "text/plain": [
       "             FARM_TYPE  Year  AVERAGE_FARM_AREA_000\n",
       "0            All farms  2013                   32.5\n",
       "2            All farms  2016                   32.4\n",
       "4   Specialist tillage  2013                   56.8\n",
       "6   Specialist tillage  2016                   58.6\n",
       "8  Specialist dairying  2013                   55.9"
      ]
     },
     "execution_count": 93,
     "metadata": {},
     "output_type": "execute_result"
    }
   ],
   "source": [
    "Figures4.head()"
   ]
  },
  {
   "cell_type": "code",
   "execution_count": 94,
   "id": "1cd692b9",
   "metadata": {},
   "outputs": [],
   "source": [
    "Figures5=Figures4[Figures3[\"Year\"] == 2016]"
   ]
  },
  {
   "cell_type": "code",
   "execution_count": 95,
   "id": "e3d9f5a2",
   "metadata": {},
   "outputs": [
    {
     "data": {
      "text/html": [
       "<div>\n",
       "<style scoped>\n",
       "    .dataframe tbody tr th:only-of-type {\n",
       "        vertical-align: middle;\n",
       "    }\n",
       "\n",
       "    .dataframe tbody tr th {\n",
       "        vertical-align: top;\n",
       "    }\n",
       "\n",
       "    .dataframe thead th {\n",
       "        text-align: right;\n",
       "    }\n",
       "</style>\n",
       "<table border=\"1\" class=\"dataframe\">\n",
       "  <thead>\n",
       "    <tr style=\"text-align: right;\">\n",
       "      <th></th>\n",
       "      <th>FARM_TYPE</th>\n",
       "      <th>Year</th>\n",
       "      <th>AVERAGE_FARM_AREA_000</th>\n",
       "    </tr>\n",
       "  </thead>\n",
       "  <tbody>\n",
       "    <tr>\n",
       "      <th>2</th>\n",
       "      <td>All farms</td>\n",
       "      <td>2016</td>\n",
       "      <td>32.4</td>\n",
       "    </tr>\n",
       "    <tr>\n",
       "      <th>6</th>\n",
       "      <td>Specialist tillage</td>\n",
       "      <td>2016</td>\n",
       "      <td>58.6</td>\n",
       "    </tr>\n",
       "    <tr>\n",
       "      <th>10</th>\n",
       "      <td>Specialist dairying</td>\n",
       "      <td>2016</td>\n",
       "      <td>59.2</td>\n",
       "    </tr>\n",
       "    <tr>\n",
       "      <th>14</th>\n",
       "      <td>Specialist beef production</td>\n",
       "      <td>2016</td>\n",
       "      <td>26.5</td>\n",
       "    </tr>\n",
       "    <tr>\n",
       "      <th>18</th>\n",
       "      <td>Specialist sheep</td>\n",
       "      <td>2016</td>\n",
       "      <td>29.0</td>\n",
       "    </tr>\n",
       "    <tr>\n",
       "      <th>22</th>\n",
       "      <td>Mixed grazing livestock</td>\n",
       "      <td>2016</td>\n",
       "      <td>36.8</td>\n",
       "    </tr>\n",
       "    <tr>\n",
       "      <th>26</th>\n",
       "      <td>Mixed crops and livestock</td>\n",
       "      <td>2016</td>\n",
       "      <td>58.7</td>\n",
       "    </tr>\n",
       "    <tr>\n",
       "      <th>30</th>\n",
       "      <td>Mixed field crops</td>\n",
       "      <td>2016</td>\n",
       "      <td>15.4</td>\n",
       "    </tr>\n",
       "    <tr>\n",
       "      <th>34</th>\n",
       "      <td>Other</td>\n",
       "      <td>2016</td>\n",
       "      <td>25.4</td>\n",
       "    </tr>\n",
       "  </tbody>\n",
       "</table>\n",
       "</div>"
      ],
      "text/plain": [
       "                     FARM_TYPE  Year  AVERAGE_FARM_AREA_000\n",
       "2                    All farms  2016                   32.4\n",
       "6           Specialist tillage  2016                   58.6\n",
       "10         Specialist dairying  2016                   59.2\n",
       "14  Specialist beef production  2016                   26.5\n",
       "18            Specialist sheep  2016                   29.0\n",
       "22     Mixed grazing livestock  2016                   36.8\n",
       "26   Mixed crops and livestock  2016                   58.7\n",
       "30           Mixed field crops  2016                   15.4\n",
       "34                       Other  2016                   25.4"
      ]
     },
     "execution_count": 95,
     "metadata": {},
     "output_type": "execute_result"
    }
   ],
   "source": [
    "Figures5"
   ]
  },
  {
   "cell_type": "code",
   "execution_count": 116,
   "id": "4c276d37",
   "metadata": {},
   "outputs": [],
   "source": [
    "Figures6=Figures5.drop([\"Year\"], axis=1)"
   ]
  },
  {
   "cell_type": "code",
   "execution_count": 119,
   "id": "f3c97a55",
   "metadata": {},
   "outputs": [
    {
     "data": {
      "text/html": [
       "<div>\n",
       "<style scoped>\n",
       "    .dataframe tbody tr th:only-of-type {\n",
       "        vertical-align: middle;\n",
       "    }\n",
       "\n",
       "    .dataframe tbody tr th {\n",
       "        vertical-align: top;\n",
       "    }\n",
       "\n",
       "    .dataframe thead th {\n",
       "        text-align: right;\n",
       "    }\n",
       "</style>\n",
       "<table border=\"1\" class=\"dataframe\">\n",
       "  <thead>\n",
       "    <tr style=\"text-align: right;\">\n",
       "      <th></th>\n",
       "      <th>FARM_TYPE</th>\n",
       "      <th>AVERAGE_FARM_AREA_000</th>\n",
       "    </tr>\n",
       "  </thead>\n",
       "  <tbody>\n",
       "    <tr>\n",
       "      <th>2</th>\n",
       "      <td>All farms</td>\n",
       "      <td>32.4</td>\n",
       "    </tr>\n",
       "    <tr>\n",
       "      <th>6</th>\n",
       "      <td>Specialist tillage</td>\n",
       "      <td>58.6</td>\n",
       "    </tr>\n",
       "    <tr>\n",
       "      <th>10</th>\n",
       "      <td>Specialist dairying</td>\n",
       "      <td>59.2</td>\n",
       "    </tr>\n",
       "    <tr>\n",
       "      <th>14</th>\n",
       "      <td>Specialist beef production</td>\n",
       "      <td>26.5</td>\n",
       "    </tr>\n",
       "    <tr>\n",
       "      <th>18</th>\n",
       "      <td>Specialist sheep</td>\n",
       "      <td>29.0</td>\n",
       "    </tr>\n",
       "    <tr>\n",
       "      <th>22</th>\n",
       "      <td>Mixed grazing livestock</td>\n",
       "      <td>36.8</td>\n",
       "    </tr>\n",
       "    <tr>\n",
       "      <th>26</th>\n",
       "      <td>Mixed crops and livestock</td>\n",
       "      <td>58.7</td>\n",
       "    </tr>\n",
       "    <tr>\n",
       "      <th>30</th>\n",
       "      <td>Mixed field crops</td>\n",
       "      <td>15.4</td>\n",
       "    </tr>\n",
       "    <tr>\n",
       "      <th>34</th>\n",
       "      <td>Other</td>\n",
       "      <td>25.4</td>\n",
       "    </tr>\n",
       "  </tbody>\n",
       "</table>\n",
       "</div>"
      ],
      "text/plain": [
       "                     FARM_TYPE  AVERAGE_FARM_AREA_000\n",
       "2                    All farms                   32.4\n",
       "6           Specialist tillage                   58.6\n",
       "10         Specialist dairying                   59.2\n",
       "14  Specialist beef production                   26.5\n",
       "18            Specialist sheep                   29.0\n",
       "22     Mixed grazing livestock                   36.8\n",
       "26   Mixed crops and livestock                   58.7\n",
       "30           Mixed field crops                   15.4\n",
       "34                       Other                   25.4"
      ]
     },
     "execution_count": 119,
     "metadata": {},
     "output_type": "execute_result"
    }
   ],
   "source": [
    "Figures6"
   ]
  },
  {
   "cell_type": "code",
   "execution_count": 103,
   "id": "2c5d1388",
   "metadata": {},
   "outputs": [],
   "source": [
    "Facts9= Facts4[Facts4[\"Region\"] == \"State\"]"
   ]
  },
  {
   "cell_type": "code",
   "execution_count": 117,
   "id": "350647f2",
   "metadata": {},
   "outputs": [
    {
     "data": {
      "text/html": [
       "<div>\n",
       "<style scoped>\n",
       "    .dataframe tbody tr th:only-of-type {\n",
       "        vertical-align: middle;\n",
       "    }\n",
       "\n",
       "    .dataframe tbody tr th {\n",
       "        vertical-align: top;\n",
       "    }\n",
       "\n",
       "    .dataframe thead th {\n",
       "        text-align: right;\n",
       "    }\n",
       "</style>\n",
       "<table border=\"1\" class=\"dataframe\">\n",
       "  <thead>\n",
       "    <tr style=\"text-align: right;\">\n",
       "      <th></th>\n",
       "      <th>FARM_TYPE</th>\n",
       "      <th>Region</th>\n",
       "      <th>Year</th>\n",
       "      <th>NUMBER_OF_FARMS_TYPE_000</th>\n",
       "    </tr>\n",
       "  </thead>\n",
       "  <tbody>\n",
       "    <tr>\n",
       "      <th>1</th>\n",
       "      <td>All farms</td>\n",
       "      <td>State</td>\n",
       "      <td>2016</td>\n",
       "      <td>137.5</td>\n",
       "    </tr>\n",
       "    <tr>\n",
       "      <th>21</th>\n",
       "      <td>Specialist tillage</td>\n",
       "      <td>State</td>\n",
       "      <td>2016</td>\n",
       "      <td>4.7</td>\n",
       "    </tr>\n",
       "    <tr>\n",
       "      <th>41</th>\n",
       "      <td>Specialist dairying</td>\n",
       "      <td>State</td>\n",
       "      <td>2016</td>\n",
       "      <td>16.1</td>\n",
       "    </tr>\n",
       "    <tr>\n",
       "      <th>61</th>\n",
       "      <td>Specialist beef production</td>\n",
       "      <td>State</td>\n",
       "      <td>2016</td>\n",
       "      <td>78.3</td>\n",
       "    </tr>\n",
       "    <tr>\n",
       "      <th>81</th>\n",
       "      <td>Specialist sheep</td>\n",
       "      <td>State</td>\n",
       "      <td>2016</td>\n",
       "      <td>15.1</td>\n",
       "    </tr>\n",
       "    <tr>\n",
       "      <th>101</th>\n",
       "      <td>Mixed grazing livestock</td>\n",
       "      <td>State</td>\n",
       "      <td>2016</td>\n",
       "      <td>11.6</td>\n",
       "    </tr>\n",
       "    <tr>\n",
       "      <th>121</th>\n",
       "      <td>Mixed crops and livestock</td>\n",
       "      <td>State</td>\n",
       "      <td>2016</td>\n",
       "      <td>2.1</td>\n",
       "    </tr>\n",
       "    <tr>\n",
       "      <th>141</th>\n",
       "      <td>Mixed field crops</td>\n",
       "      <td>State</td>\n",
       "      <td>2016</td>\n",
       "      <td>8.2</td>\n",
       "    </tr>\n",
       "    <tr>\n",
       "      <th>161</th>\n",
       "      <td>Other</td>\n",
       "      <td>State</td>\n",
       "      <td>2016</td>\n",
       "      <td>1.3</td>\n",
       "    </tr>\n",
       "  </tbody>\n",
       "</table>\n",
       "</div>"
      ],
      "text/plain": [
       "                      FARM_TYPE Region  Year  NUMBER_OF_FARMS_TYPE_000\n",
       "1                     All farms  State  2016                     137.5\n",
       "21           Specialist tillage  State  2016                       4.7\n",
       "41          Specialist dairying  State  2016                      16.1\n",
       "61   Specialist beef production  State  2016                      78.3\n",
       "81             Specialist sheep  State  2016                      15.1\n",
       "101     Mixed grazing livestock  State  2016                      11.6\n",
       "121   Mixed crops and livestock  State  2016                       2.1\n",
       "141           Mixed field crops  State  2016                       8.2\n",
       "161                       Other  State  2016                       1.3"
      ]
     },
     "execution_count": 117,
     "metadata": {},
     "output_type": "execute_result"
    }
   ],
   "source": [
    "Facts9"
   ]
  },
  {
   "cell_type": "code",
   "execution_count": 113,
   "id": "33c9fe48",
   "metadata": {},
   "outputs": [],
   "source": [
    "Facts10=Facts9.drop([\"Year\", \"Region\"], axis=1)"
   ]
  },
  {
   "cell_type": "code",
   "execution_count": 118,
   "id": "993638ae",
   "metadata": {},
   "outputs": [
    {
     "data": {
      "text/html": [
       "<div>\n",
       "<style scoped>\n",
       "    .dataframe tbody tr th:only-of-type {\n",
       "        vertical-align: middle;\n",
       "    }\n",
       "\n",
       "    .dataframe tbody tr th {\n",
       "        vertical-align: top;\n",
       "    }\n",
       "\n",
       "    .dataframe thead th {\n",
       "        text-align: right;\n",
       "    }\n",
       "</style>\n",
       "<table border=\"1\" class=\"dataframe\">\n",
       "  <thead>\n",
       "    <tr style=\"text-align: right;\">\n",
       "      <th></th>\n",
       "      <th>FARM_TYPE</th>\n",
       "      <th>NUMBER_OF_FARMS_TYPE_000</th>\n",
       "    </tr>\n",
       "  </thead>\n",
       "  <tbody>\n",
       "    <tr>\n",
       "      <th>1</th>\n",
       "      <td>All farms</td>\n",
       "      <td>137.5</td>\n",
       "    </tr>\n",
       "    <tr>\n",
       "      <th>21</th>\n",
       "      <td>Specialist tillage</td>\n",
       "      <td>4.7</td>\n",
       "    </tr>\n",
       "    <tr>\n",
       "      <th>41</th>\n",
       "      <td>Specialist dairying</td>\n",
       "      <td>16.1</td>\n",
       "    </tr>\n",
       "    <tr>\n",
       "      <th>61</th>\n",
       "      <td>Specialist beef production</td>\n",
       "      <td>78.3</td>\n",
       "    </tr>\n",
       "    <tr>\n",
       "      <th>81</th>\n",
       "      <td>Specialist sheep</td>\n",
       "      <td>15.1</td>\n",
       "    </tr>\n",
       "    <tr>\n",
       "      <th>101</th>\n",
       "      <td>Mixed grazing livestock</td>\n",
       "      <td>11.6</td>\n",
       "    </tr>\n",
       "    <tr>\n",
       "      <th>121</th>\n",
       "      <td>Mixed crops and livestock</td>\n",
       "      <td>2.1</td>\n",
       "    </tr>\n",
       "    <tr>\n",
       "      <th>141</th>\n",
       "      <td>Mixed field crops</td>\n",
       "      <td>8.2</td>\n",
       "    </tr>\n",
       "    <tr>\n",
       "      <th>161</th>\n",
       "      <td>Other</td>\n",
       "      <td>1.3</td>\n",
       "    </tr>\n",
       "  </tbody>\n",
       "</table>\n",
       "</div>"
      ],
      "text/plain": [
       "                      FARM_TYPE  NUMBER_OF_FARMS_TYPE_000\n",
       "1                     All farms                     137.5\n",
       "21           Specialist tillage                       4.7\n",
       "41          Specialist dairying                      16.1\n",
       "61   Specialist beef production                      78.3\n",
       "81             Specialist sheep                      15.1\n",
       "101     Mixed grazing livestock                      11.6\n",
       "121   Mixed crops and livestock                       2.1\n",
       "141           Mixed field crops                       8.2\n",
       "161                       Other                       1.3"
      ]
     },
     "execution_count": 118,
     "metadata": {},
     "output_type": "execute_result"
    }
   ],
   "source": [
    "Facts10"
   ]
  },
  {
   "cell_type": "code",
   "execution_count": 131,
   "id": "ae8cd21e",
   "metadata": {},
   "outputs": [],
   "source": [
    "Tab=pd.merge(Facts10, Figures6, on=\"FARM_TYPE\", how=\"inner\")"
   ]
  },
  {
   "cell_type": "code",
   "execution_count": 132,
   "id": "e2211f9a",
   "metadata": {},
   "outputs": [
    {
     "data": {
      "text/html": [
       "<div>\n",
       "<style scoped>\n",
       "    .dataframe tbody tr th:only-of-type {\n",
       "        vertical-align: middle;\n",
       "    }\n",
       "\n",
       "    .dataframe tbody tr th {\n",
       "        vertical-align: top;\n",
       "    }\n",
       "\n",
       "    .dataframe thead th {\n",
       "        text-align: right;\n",
       "    }\n",
       "</style>\n",
       "<table border=\"1\" class=\"dataframe\">\n",
       "  <thead>\n",
       "    <tr style=\"text-align: right;\">\n",
       "      <th></th>\n",
       "      <th>FARM_TYPE</th>\n",
       "      <th>NUMBER_OF_FARMS_TYPE_000</th>\n",
       "      <th>AVERAGE_FARM_AREA_000</th>\n",
       "    </tr>\n",
       "  </thead>\n",
       "  <tbody>\n",
       "    <tr>\n",
       "      <th>0</th>\n",
       "      <td>All farms</td>\n",
       "      <td>137.5</td>\n",
       "      <td>32.4</td>\n",
       "    </tr>\n",
       "    <tr>\n",
       "      <th>1</th>\n",
       "      <td>Specialist tillage</td>\n",
       "      <td>4.7</td>\n",
       "      <td>58.6</td>\n",
       "    </tr>\n",
       "    <tr>\n",
       "      <th>2</th>\n",
       "      <td>Specialist dairying</td>\n",
       "      <td>16.1</td>\n",
       "      <td>59.2</td>\n",
       "    </tr>\n",
       "    <tr>\n",
       "      <th>3</th>\n",
       "      <td>Specialist beef production</td>\n",
       "      <td>78.3</td>\n",
       "      <td>26.5</td>\n",
       "    </tr>\n",
       "    <tr>\n",
       "      <th>4</th>\n",
       "      <td>Specialist sheep</td>\n",
       "      <td>15.1</td>\n",
       "      <td>29.0</td>\n",
       "    </tr>\n",
       "    <tr>\n",
       "      <th>5</th>\n",
       "      <td>Mixed grazing livestock</td>\n",
       "      <td>11.6</td>\n",
       "      <td>36.8</td>\n",
       "    </tr>\n",
       "    <tr>\n",
       "      <th>6</th>\n",
       "      <td>Mixed crops and livestock</td>\n",
       "      <td>2.1</td>\n",
       "      <td>58.7</td>\n",
       "    </tr>\n",
       "    <tr>\n",
       "      <th>7</th>\n",
       "      <td>Mixed field crops</td>\n",
       "      <td>8.2</td>\n",
       "      <td>15.4</td>\n",
       "    </tr>\n",
       "    <tr>\n",
       "      <th>8</th>\n",
       "      <td>Other</td>\n",
       "      <td>1.3</td>\n",
       "      <td>25.4</td>\n",
       "    </tr>\n",
       "  </tbody>\n",
       "</table>\n",
       "</div>"
      ],
      "text/plain": [
       "                    FARM_TYPE  NUMBER_OF_FARMS_TYPE_000  AVERAGE_FARM_AREA_000\n",
       "0                   All farms                     137.5                   32.4\n",
       "1          Specialist tillage                       4.7                   58.6\n",
       "2         Specialist dairying                      16.1                   59.2\n",
       "3  Specialist beef production                      78.3                   26.5\n",
       "4            Specialist sheep                      15.1                   29.0\n",
       "5     Mixed grazing livestock                      11.6                   36.8\n",
       "6   Mixed crops and livestock                       2.1                   58.7\n",
       "7           Mixed field crops                       8.2                   15.4\n",
       "8                       Other                       1.3                   25.4"
      ]
     },
     "execution_count": 132,
     "metadata": {},
     "output_type": "execute_result"
    }
   ],
   "source": [
    "Tab"
   ]
  },
  {
   "cell_type": "code",
   "execution_count": 156,
   "id": "753df004",
   "metadata": {},
   "outputs": [],
   "source": [
    "Tot=Tab[\"NUMBER_OF_FARMS_TYPE_000\"] * Tab[\"AVERAGE_FARM_AREA_000\"]"
   ]
  },
  {
   "cell_type": "code",
   "execution_count": 157,
   "id": "4c7f6099",
   "metadata": {},
   "outputs": [
    {
     "data": {
      "text/plain": [
       "0    4455.00\n",
       "1     275.42\n",
       "2     953.12\n",
       "3    2074.95\n",
       "4     437.90\n",
       "5     426.88\n",
       "6     123.27\n",
       "7     126.28\n",
       "8      33.02\n",
       "dtype: float64"
      ]
     },
     "execution_count": 157,
     "metadata": {},
     "output_type": "execute_result"
    }
   ],
   "source": [
    "Tot"
   ]
  },
  {
   "cell_type": "code",
   "execution_count": 247,
   "id": "12b2673f",
   "metadata": {},
   "outputs": [],
   "source": [
    "Total_Land_2016=pd.DataFrame({\"FARM_TYPE\":['All farms', 'Specialist tillage', 'Specialist dairying','Specialist beef production', 'Specialist sheep',\n",
    "'Mixed grazing livestock', 'Mixed crops and livestock', 'Mixed field crops', 'Other'], \"LAND_SIZE_000\":[4455.00, 275.42, 953.12, 2074.95, 437.90, 426.88, 123.27, 126.28, 33.02]})"
   ]
  },
  {
   "cell_type": "code",
   "execution_count": 248,
   "id": "39c80073",
   "metadata": {},
   "outputs": [
    {
     "data": {
      "text/html": [
       "<div>\n",
       "<style scoped>\n",
       "    .dataframe tbody tr th:only-of-type {\n",
       "        vertical-align: middle;\n",
       "    }\n",
       "\n",
       "    .dataframe tbody tr th {\n",
       "        vertical-align: top;\n",
       "    }\n",
       "\n",
       "    .dataframe thead th {\n",
       "        text-align: right;\n",
       "    }\n",
       "</style>\n",
       "<table border=\"1\" class=\"dataframe\">\n",
       "  <thead>\n",
       "    <tr style=\"text-align: right;\">\n",
       "      <th></th>\n",
       "      <th>FARM_TYPE</th>\n",
       "      <th>LAND_SIZE_000</th>\n",
       "    </tr>\n",
       "  </thead>\n",
       "  <tbody>\n",
       "    <tr>\n",
       "      <th>0</th>\n",
       "      <td>All farms</td>\n",
       "      <td>4455.00</td>\n",
       "    </tr>\n",
       "    <tr>\n",
       "      <th>1</th>\n",
       "      <td>Specialist tillage</td>\n",
       "      <td>275.42</td>\n",
       "    </tr>\n",
       "    <tr>\n",
       "      <th>2</th>\n",
       "      <td>Specialist dairying</td>\n",
       "      <td>953.12</td>\n",
       "    </tr>\n",
       "    <tr>\n",
       "      <th>3</th>\n",
       "      <td>Specialist beef production</td>\n",
       "      <td>2074.95</td>\n",
       "    </tr>\n",
       "    <tr>\n",
       "      <th>4</th>\n",
       "      <td>Specialist sheep</td>\n",
       "      <td>437.90</td>\n",
       "    </tr>\n",
       "    <tr>\n",
       "      <th>5</th>\n",
       "      <td>Mixed grazing livestock</td>\n",
       "      <td>426.88</td>\n",
       "    </tr>\n",
       "    <tr>\n",
       "      <th>6</th>\n",
       "      <td>Mixed crops and livestock</td>\n",
       "      <td>123.27</td>\n",
       "    </tr>\n",
       "    <tr>\n",
       "      <th>7</th>\n",
       "      <td>Mixed field crops</td>\n",
       "      <td>126.28</td>\n",
       "    </tr>\n",
       "    <tr>\n",
       "      <th>8</th>\n",
       "      <td>Other</td>\n",
       "      <td>33.02</td>\n",
       "    </tr>\n",
       "  </tbody>\n",
       "</table>\n",
       "</div>"
      ],
      "text/plain": [
       "                    FARM_TYPE  LAND_SIZE_000\n",
       "0                   All farms        4455.00\n",
       "1          Specialist tillage         275.42\n",
       "2         Specialist dairying         953.12\n",
       "3  Specialist beef production        2074.95\n",
       "4            Specialist sheep         437.90\n",
       "5     Mixed grazing livestock         426.88\n",
       "6   Mixed crops and livestock         123.27\n",
       "7           Mixed field crops         126.28\n",
       "8                       Other          33.02"
      ]
     },
     "execution_count": 248,
     "metadata": {},
     "output_type": "execute_result"
    }
   ],
   "source": [
    "Total_Land_2016"
   ]
  },
  {
   "cell_type": "code",
   "execution_count": 249,
   "id": "45d0458c",
   "metadata": {},
   "outputs": [],
   "source": [
    "Total_Land_2016_Sort = Total_Land_2016.groupby(\"FARM_TYPE\")[\"LAND_SIZE_000\"].sum().sort_values()"
   ]
  },
  {
   "cell_type": "code",
   "execution_count": 250,
   "id": "09d1733a",
   "metadata": {},
   "outputs": [
    {
     "data": {
      "text/plain": [
       "FARM_TYPE\n",
       "Other                           33.02\n",
       "Mixed crops and livestock      123.27\n",
       "Mixed field crops              126.28\n",
       "Specialist tillage             275.42\n",
       "Mixed grazing livestock        426.88\n",
       "Specialist sheep               437.90\n",
       "Specialist dairying            953.12\n",
       "Specialist beef production    2074.95\n",
       "All farms                     4455.00\n",
       "Name: LAND_SIZE_000, dtype: float64"
      ]
     },
     "execution_count": 250,
     "metadata": {},
     "output_type": "execute_result"
    }
   ],
   "source": [
    "Total_Land_2016_Sort"
   ]
  },
  {
   "cell_type": "code",
   "execution_count": 270,
   "id": "6d21943b",
   "metadata": {},
   "outputs": [
    {
     "data": {
      "text/plain": [
       "15.18361391694725"
      ]
     },
     "execution_count": 270,
     "metadata": {},
     "output_type": "execute_result"
    }
   ],
   "source": [
    "(426.88+123.27+126.28)/4455*100"
   ]
  },
  {
   "cell_type": "code",
   "execution_count": 251,
   "id": "d37a4ec0",
   "metadata": {},
   "outputs": [
    {
     "data": {
      "text/plain": [
       "Text(-113.5, 0.5, 'Farm Type')"
      ]
     },
     "execution_count": 251,
     "metadata": {},
     "output_type": "execute_result"
    },
    {
     "data": {
      "image/png": "[encoded data removed]",
      "text/plain": [
       "<Figure size 432x288 with 1 Axes>"
      ]
     },
     "metadata": {
      "needs_background": "light"
     },
     "output_type": "display_data"
    }
   ],
   "source": [
    "Total_Land_2016_Sort.plot(kind='barh', x='FARM_TYPE', y='LAND_SIZE_000', color=\"red\")\n",
    "plt.tight_layout()\n",
    "plt.rcParams.update({'font.size': 12})\n",
    "\n",
    "plt.title(\"Total Land Area Under Different Types of Farms in 2016\")\n",
    "plt.xlabel(\"Land Area (000Ha)\")\n",
    "plt.ylabel(\"Farm Type\")"
   ]
  },
  {
   "cell_type": "code",
   "execution_count": 252,
   "id": "08270ef7",
   "metadata": {},
   "outputs": [],
   "source": [
    "Final=Facts3[Facts3[\"Year\"] == 2013]"
   ]
  },
  {
   "cell_type": "code",
   "execution_count": 253,
   "id": "2946c582",
   "metadata": {},
   "outputs": [
    {
     "data": {
      "text/html": [
       "<div>\n",
       "<style scoped>\n",
       "    .dataframe tbody tr th:only-of-type {\n",
       "        vertical-align: middle;\n",
       "    }\n",
       "\n",
       "    .dataframe tbody tr th {\n",
       "        vertical-align: top;\n",
       "    }\n",
       "\n",
       "    .dataframe thead th {\n",
       "        text-align: right;\n",
       "    }\n",
       "</style>\n",
       "<table border=\"1\" class=\"dataframe\">\n",
       "  <thead>\n",
       "    <tr style=\"text-align: right;\">\n",
       "      <th></th>\n",
       "      <th>FARM_TYPE</th>\n",
       "      <th>Region</th>\n",
       "      <th>Year</th>\n",
       "      <th>NUMBER_OF_FARMS_TYPE_000</th>\n",
       "    </tr>\n",
       "  </thead>\n",
       "  <tbody>\n",
       "    <tr>\n",
       "      <th>0</th>\n",
       "      <td>All farms</td>\n",
       "      <td>State</td>\n",
       "      <td>2013</td>\n",
       "      <td>139.6</td>\n",
       "    </tr>\n",
       "    <tr>\n",
       "      <th>2</th>\n",
       "      <td>All farms</td>\n",
       "      <td>Border, Midland and Western</td>\n",
       "      <td>2013</td>\n",
       "      <td>73.6</td>\n",
       "    </tr>\n",
       "    <tr>\n",
       "      <th>4</th>\n",
       "      <td>All farms</td>\n",
       "      <td>Border</td>\n",
       "      <td>2013</td>\n",
       "      <td>28.7</td>\n",
       "    </tr>\n",
       "    <tr>\n",
       "      <th>6</th>\n",
       "      <td>All farms</td>\n",
       "      <td>Midland</td>\n",
       "      <td>2013</td>\n",
       "      <td>12.9</td>\n",
       "    </tr>\n",
       "    <tr>\n",
       "      <th>8</th>\n",
       "      <td>All farms</td>\n",
       "      <td>West</td>\n",
       "      <td>2013</td>\n",
       "      <td>32.0</td>\n",
       "    </tr>\n",
       "    <tr>\n",
       "      <th>...</th>\n",
       "      <td>...</td>\n",
       "      <td>...</td>\n",
       "      <td>...</td>\n",
       "      <td>...</td>\n",
       "    </tr>\n",
       "    <tr>\n",
       "      <th>170</th>\n",
       "      <td>Other</td>\n",
       "      <td>Southern and Eastern</td>\n",
       "      <td>2013</td>\n",
       "      <td>0.7</td>\n",
       "    </tr>\n",
       "    <tr>\n",
       "      <th>172</th>\n",
       "      <td>Other</td>\n",
       "      <td>Dublin plus Mid East</td>\n",
       "      <td>2013</td>\n",
       "      <td>0.2</td>\n",
       "    </tr>\n",
       "    <tr>\n",
       "      <th>174</th>\n",
       "      <td>Other</td>\n",
       "      <td>Mid-West</td>\n",
       "      <td>2013</td>\n",
       "      <td>0.1</td>\n",
       "    </tr>\n",
       "    <tr>\n",
       "      <th>176</th>\n",
       "      <td>Other</td>\n",
       "      <td>South-East</td>\n",
       "      <td>2013</td>\n",
       "      <td>0.2</td>\n",
       "    </tr>\n",
       "    <tr>\n",
       "      <th>178</th>\n",
       "      <td>Other</td>\n",
       "      <td>South-West</td>\n",
       "      <td>2013</td>\n",
       "      <td>0.2</td>\n",
       "    </tr>\n",
       "  </tbody>\n",
       "</table>\n",
       "<p>90 rows × 4 columns</p>\n",
       "</div>"
      ],
      "text/plain": [
       "     FARM_TYPE                       Region  Year  NUMBER_OF_FARMS_TYPE_000\n",
       "0    All farms                        State  2013                     139.6\n",
       "2    All farms  Border, Midland and Western  2013                      73.6\n",
       "4    All farms                       Border  2013                      28.7\n",
       "6    All farms                      Midland  2013                      12.9\n",
       "8    All farms                         West  2013                      32.0\n",
       "..         ...                          ...   ...                       ...\n",
       "170      Other         Southern and Eastern  2013                       0.7\n",
       "172      Other         Dublin plus Mid East  2013                       0.2\n",
       "174      Other                     Mid-West  2013                       0.1\n",
       "176      Other                   South-East  2013                       0.2\n",
       "178      Other                   South-West  2013                       0.2\n",
       "\n",
       "[90 rows x 4 columns]"
      ]
     },
     "execution_count": 253,
     "metadata": {},
     "output_type": "execute_result"
    }
   ],
   "source": [
    "Final"
   ]
  },
  {
   "cell_type": "code",
   "execution_count": 254,
   "id": "64806b7f",
   "metadata": {},
   "outputs": [],
   "source": [
    "Final1= Final[Final[\"Region\"] == \"State\"]"
   ]
  },
  {
   "cell_type": "code",
   "execution_count": 255,
   "id": "2b4f8377",
   "metadata": {},
   "outputs": [
    {
     "data": {
      "text/html": [
       "<div>\n",
       "<style scoped>\n",
       "    .dataframe tbody tr th:only-of-type {\n",
       "        vertical-align: middle;\n",
       "    }\n",
       "\n",
       "    .dataframe tbody tr th {\n",
       "        vertical-align: top;\n",
       "    }\n",
       "\n",
       "    .dataframe thead th {\n",
       "        text-align: right;\n",
       "    }\n",
       "</style>\n",
       "<table border=\"1\" class=\"dataframe\">\n",
       "  <thead>\n",
       "    <tr style=\"text-align: right;\">\n",
       "      <th></th>\n",
       "      <th>FARM_TYPE</th>\n",
       "      <th>Region</th>\n",
       "      <th>Year</th>\n",
       "      <th>NUMBER_OF_FARMS_TYPE_000</th>\n",
       "    </tr>\n",
       "  </thead>\n",
       "  <tbody>\n",
       "    <tr>\n",
       "      <th>0</th>\n",
       "      <td>All farms</td>\n",
       "      <td>State</td>\n",
       "      <td>2013</td>\n",
       "      <td>139.6</td>\n",
       "    </tr>\n",
       "    <tr>\n",
       "      <th>20</th>\n",
       "      <td>Specialist tillage</td>\n",
       "      <td>State</td>\n",
       "      <td>2013</td>\n",
       "      <td>5.3</td>\n",
       "    </tr>\n",
       "    <tr>\n",
       "      <th>40</th>\n",
       "      <td>Specialist dairying</td>\n",
       "      <td>State</td>\n",
       "      <td>2013</td>\n",
       "      <td>15.6</td>\n",
       "    </tr>\n",
       "    <tr>\n",
       "      <th>60</th>\n",
       "      <td>Specialist beef production</td>\n",
       "      <td>State</td>\n",
       "      <td>2013</td>\n",
       "      <td>78.8</td>\n",
       "    </tr>\n",
       "    <tr>\n",
       "      <th>80</th>\n",
       "      <td>Specialist sheep</td>\n",
       "      <td>State</td>\n",
       "      <td>2013</td>\n",
       "      <td>15.0</td>\n",
       "    </tr>\n",
       "    <tr>\n",
       "      <th>100</th>\n",
       "      <td>Mixed grazing livestock</td>\n",
       "      <td>State</td>\n",
       "      <td>2013</td>\n",
       "      <td>13.1</td>\n",
       "    </tr>\n",
       "    <tr>\n",
       "      <th>120</th>\n",
       "      <td>Mixed crops and livestock</td>\n",
       "      <td>State</td>\n",
       "      <td>2013</td>\n",
       "      <td>2.6</td>\n",
       "    </tr>\n",
       "    <tr>\n",
       "      <th>140</th>\n",
       "      <td>Mixed field crops</td>\n",
       "      <td>State</td>\n",
       "      <td>2013</td>\n",
       "      <td>7.9</td>\n",
       "    </tr>\n",
       "    <tr>\n",
       "      <th>160</th>\n",
       "      <td>Other</td>\n",
       "      <td>State</td>\n",
       "      <td>2013</td>\n",
       "      <td>1.3</td>\n",
       "    </tr>\n",
       "  </tbody>\n",
       "</table>\n",
       "</div>"
      ],
      "text/plain": [
       "                      FARM_TYPE Region  Year  NUMBER_OF_FARMS_TYPE_000\n",
       "0                     All farms  State  2013                     139.6\n",
       "20           Specialist tillage  State  2013                       5.3\n",
       "40          Specialist dairying  State  2013                      15.6\n",
       "60   Specialist beef production  State  2013                      78.8\n",
       "80             Specialist sheep  State  2013                      15.0\n",
       "100     Mixed grazing livestock  State  2013                      13.1\n",
       "120   Mixed crops and livestock  State  2013                       2.6\n",
       "140           Mixed field crops  State  2013                       7.9\n",
       "160                       Other  State  2013                       1.3"
      ]
     },
     "execution_count": 255,
     "metadata": {},
     "output_type": "execute_result"
    }
   ],
   "source": [
    "Final1"
   ]
  },
  {
   "cell_type": "code",
   "execution_count": 256,
   "id": "2371f77d",
   "metadata": {},
   "outputs": [],
   "source": [
    "Final2=Final1.drop([\"Year\", \"Region\"], axis=1)"
   ]
  },
  {
   "cell_type": "code",
   "execution_count": 257,
   "id": "81dfebc8",
   "metadata": {},
   "outputs": [],
   "source": [
    "Figures11=Figures4[Figures3[\"Year\"] == 2013]"
   ]
  },
  {
   "cell_type": "code",
   "execution_count": 258,
   "id": "04503d95",
   "metadata": {},
   "outputs": [
    {
     "data": {
      "text/html": [
       "<div>\n",
       "<style scoped>\n",
       "    .dataframe tbody tr th:only-of-type {\n",
       "        vertical-align: middle;\n",
       "    }\n",
       "\n",
       "    .dataframe tbody tr th {\n",
       "        vertical-align: top;\n",
       "    }\n",
       "\n",
       "    .dataframe thead th {\n",
       "        text-align: right;\n",
       "    }\n",
       "</style>\n",
       "<table border=\"1\" class=\"dataframe\">\n",
       "  <thead>\n",
       "    <tr style=\"text-align: right;\">\n",
       "      <th></th>\n",
       "      <th>FARM_TYPE</th>\n",
       "      <th>Year</th>\n",
       "      <th>AVERAGE_FARM_AREA_000</th>\n",
       "    </tr>\n",
       "  </thead>\n",
       "  <tbody>\n",
       "    <tr>\n",
       "      <th>0</th>\n",
       "      <td>All farms</td>\n",
       "      <td>2013</td>\n",
       "      <td>32.5</td>\n",
       "    </tr>\n",
       "    <tr>\n",
       "      <th>4</th>\n",
       "      <td>Specialist tillage</td>\n",
       "      <td>2013</td>\n",
       "      <td>56.8</td>\n",
       "    </tr>\n",
       "    <tr>\n",
       "      <th>8</th>\n",
       "      <td>Specialist dairying</td>\n",
       "      <td>2013</td>\n",
       "      <td>55.9</td>\n",
       "    </tr>\n",
       "    <tr>\n",
       "      <th>12</th>\n",
       "      <td>Specialist beef production</td>\n",
       "      <td>2013</td>\n",
       "      <td>27.0</td>\n",
       "    </tr>\n",
       "    <tr>\n",
       "      <th>16</th>\n",
       "      <td>Specialist sheep</td>\n",
       "      <td>2013</td>\n",
       "      <td>29.6</td>\n",
       "    </tr>\n",
       "    <tr>\n",
       "      <th>20</th>\n",
       "      <td>Mixed grazing livestock</td>\n",
       "      <td>2013</td>\n",
       "      <td>36.8</td>\n",
       "    </tr>\n",
       "    <tr>\n",
       "      <th>24</th>\n",
       "      <td>Mixed crops and livestock</td>\n",
       "      <td>2013</td>\n",
       "      <td>58.7</td>\n",
       "    </tr>\n",
       "    <tr>\n",
       "      <th>28</th>\n",
       "      <td>Mixed field crops</td>\n",
       "      <td>2013</td>\n",
       "      <td>27.3</td>\n",
       "    </tr>\n",
       "    <tr>\n",
       "      <th>32</th>\n",
       "      <td>Other</td>\n",
       "      <td>2013</td>\n",
       "      <td>16.0</td>\n",
       "    </tr>\n",
       "  </tbody>\n",
       "</table>\n",
       "</div>"
      ],
      "text/plain": [
       "                     FARM_TYPE  Year  AVERAGE_FARM_AREA_000\n",
       "0                    All farms  2013                   32.5\n",
       "4           Specialist tillage  2013                   56.8\n",
       "8          Specialist dairying  2013                   55.9\n",
       "12  Specialist beef production  2013                   27.0\n",
       "16            Specialist sheep  2013                   29.6\n",
       "20     Mixed grazing livestock  2013                   36.8\n",
       "24   Mixed crops and livestock  2013                   58.7\n",
       "28           Mixed field crops  2013                   27.3\n",
       "32                       Other  2013                   16.0"
      ]
     },
     "execution_count": 258,
     "metadata": {},
     "output_type": "execute_result"
    }
   ],
   "source": [
    "Figures11"
   ]
  },
  {
   "cell_type": "code",
   "execution_count": 259,
   "id": "ff5e555c",
   "metadata": {},
   "outputs": [],
   "source": [
    "Figures2=Figures11.drop([\"Year\",], axis=1)"
   ]
  },
  {
   "cell_type": "code",
   "execution_count": 260,
   "id": "fbea3da5",
   "metadata": {},
   "outputs": [],
   "source": [
    "Land_2013=pd.merge(Final2, Figures2, on=\"FARM_TYPE\", how=\"inner\")"
   ]
  },
  {
   "cell_type": "code",
   "execution_count": 261,
   "id": "2c3355b6",
   "metadata": {},
   "outputs": [
    {
     "data": {
      "text/html": [
       "<div>\n",
       "<style scoped>\n",
       "    .dataframe tbody tr th:only-of-type {\n",
       "        vertical-align: middle;\n",
       "    }\n",
       "\n",
       "    .dataframe tbody tr th {\n",
       "        vertical-align: top;\n",
       "    }\n",
       "\n",
       "    .dataframe thead th {\n",
       "        text-align: right;\n",
       "    }\n",
       "</style>\n",
       "<table border=\"1\" class=\"dataframe\">\n",
       "  <thead>\n",
       "    <tr style=\"text-align: right;\">\n",
       "      <th></th>\n",
       "      <th>FARM_TYPE</th>\n",
       "      <th>NUMBER_OF_FARMS_TYPE_000</th>\n",
       "      <th>AVERAGE_FARM_AREA_000</th>\n",
       "    </tr>\n",
       "  </thead>\n",
       "  <tbody>\n",
       "    <tr>\n",
       "      <th>0</th>\n",
       "      <td>All farms</td>\n",
       "      <td>139.6</td>\n",
       "      <td>32.5</td>\n",
       "    </tr>\n",
       "    <tr>\n",
       "      <th>1</th>\n",
       "      <td>Specialist tillage</td>\n",
       "      <td>5.3</td>\n",
       "      <td>56.8</td>\n",
       "    </tr>\n",
       "    <tr>\n",
       "      <th>2</th>\n",
       "      <td>Specialist dairying</td>\n",
       "      <td>15.6</td>\n",
       "      <td>55.9</td>\n",
       "    </tr>\n",
       "    <tr>\n",
       "      <th>3</th>\n",
       "      <td>Specialist beef production</td>\n",
       "      <td>78.8</td>\n",
       "      <td>27.0</td>\n",
       "    </tr>\n",
       "    <tr>\n",
       "      <th>4</th>\n",
       "      <td>Specialist sheep</td>\n",
       "      <td>15.0</td>\n",
       "      <td>29.6</td>\n",
       "    </tr>\n",
       "    <tr>\n",
       "      <th>5</th>\n",
       "      <td>Mixed grazing livestock</td>\n",
       "      <td>13.1</td>\n",
       "      <td>36.8</td>\n",
       "    </tr>\n",
       "    <tr>\n",
       "      <th>6</th>\n",
       "      <td>Mixed crops and livestock</td>\n",
       "      <td>2.6</td>\n",
       "      <td>58.7</td>\n",
       "    </tr>\n",
       "    <tr>\n",
       "      <th>7</th>\n",
       "      <td>Mixed field crops</td>\n",
       "      <td>7.9</td>\n",
       "      <td>27.3</td>\n",
       "    </tr>\n",
       "    <tr>\n",
       "      <th>8</th>\n",
       "      <td>Other</td>\n",
       "      <td>1.3</td>\n",
       "      <td>16.0</td>\n",
       "    </tr>\n",
       "  </tbody>\n",
       "</table>\n",
       "</div>"
      ],
      "text/plain": [
       "                    FARM_TYPE  NUMBER_OF_FARMS_TYPE_000  AVERAGE_FARM_AREA_000\n",
       "0                   All farms                     139.6                   32.5\n",
       "1          Specialist tillage                       5.3                   56.8\n",
       "2         Specialist dairying                      15.6                   55.9\n",
       "3  Specialist beef production                      78.8                   27.0\n",
       "4            Specialist sheep                      15.0                   29.6\n",
       "5     Mixed grazing livestock                      13.1                   36.8\n",
       "6   Mixed crops and livestock                       2.6                   58.7\n",
       "7           Mixed field crops                       7.9                   27.3\n",
       "8                       Other                       1.3                   16.0"
      ]
     },
     "execution_count": 261,
     "metadata": {},
     "output_type": "execute_result"
    }
   ],
   "source": [
    "Land_2013"
   ]
  },
  {
   "cell_type": "code",
   "execution_count": 262,
   "id": "4b8aea55",
   "metadata": {},
   "outputs": [],
   "source": [
    "Land_2013_2=Land_2013[\"NUMBER_OF_FARMS_TYPE_000\"] * Land_2013[\"AVERAGE_FARM_AREA_000\"]"
   ]
  },
  {
   "cell_type": "code",
   "execution_count": 263,
   "id": "3932c02e",
   "metadata": {},
   "outputs": [
    {
     "data": {
      "text/plain": [
       "0    4537.00\n",
       "1     301.04\n",
       "2     872.04\n",
       "3    2127.60\n",
       "4     444.00\n",
       "5     482.08\n",
       "6     152.62\n",
       "7     215.67\n",
       "8      20.80\n",
       "dtype: float64"
      ]
     },
     "execution_count": 263,
     "metadata": {},
     "output_type": "execute_result"
    }
   ],
   "source": [
    "Land_2013_2"
   ]
  },
  {
   "cell_type": "code",
   "execution_count": 264,
   "id": "acfb49e2",
   "metadata": {},
   "outputs": [],
   "source": [
    "Total_Land_2013=pd.DataFrame({\"FARM_TYPE\":['All farms', 'Specialist tillage', 'Specialist dairying','Specialist beef production', 'Specialist sheep',\n",
    "'Mixed grazing livestock', 'Mixed crops and livestock', 'Mixed field crops', 'Other'], \"LAND_SIZE_000\":[4537.00, 301.04, 872.04, 2127.60, 444.00, 482.08, 152.62, 215.67, 20.80]})\n"
   ]
  },
  {
   "cell_type": "code",
   "execution_count": 282,
   "id": "d37b25bb",
   "metadata": {},
   "outputs": [
    {
     "data": {
      "text/plain": [
       "1.807361692748512"
      ]
     },
     "execution_count": 282,
     "metadata": {},
     "output_type": "execute_result"
    }
   ],
   "source": [
    "(4537-4455)/4537*100"
   ]
  },
  {
   "cell_type": "code",
   "execution_count": 271,
   "id": "6f23e134",
   "metadata": {},
   "outputs": [
    {
     "data": {
      "text/plain": [
       "Text(0, 0.5, 'Total Land Area (Ha000)')"
      ]
     },
     "execution_count": 271,
     "metadata": {},
     "output_type": "execute_result"
    },
    {
     "data": {
      "text/plain": [
       "<Figure size 432x288 with 0 Axes>"
      ]
     },
     "metadata": {},
     "output_type": "display_data"
    },
    {
     "data": {
      "image/png": "[encoded data removed]",
      "text/plain": [
       "<Figure size 432x288 with 1 Axes>"
      ]
     },
     "metadata": {
      "needs_background": "light"
     },
     "output_type": "display_data"
    }
   ],
   "source": [
    "Total_Land_2013_2016 = pd.DataFrame({'Total_Land_2013': [4537.00, 301.04, 872.04, 2127.60, 444.00, 482.08, 152.62, 215.67, 20.80],\n",
    "   'Total_Land_2016': [4455.00, 275.42, 953.12, 2074.95, 437.90, 426.88, 123.27, 126.28, 33.02]}, index=['All farms', 'Specialist tillage', 'Specialist dairying','Specialist beef production', 'Specialist sheep',\n",
    "'Mixed grazing livestock', 'Mixed crops and livestock', 'Mixed field crops', 'Other'])\n",
    "plt.figure()\n",
    "plt.rcParams.update({'font.size': 12})\n",
    "Total_Land_2013_2016.reset_index().plot(x=\"index\", y=[\"Total_Land_2013\", \"Total_Land_2016\"], kind=\"bar\")\n",
    "\n",
    "plt.title(\"Types of Farms in Ireland in 2013 and 2016\")\n",
    "plt.xlabel(\"Farming Type\")\n",
    "plt.ylabel(\"Total Land Area (Ha000)\")"
   ]
  },
  {
   "cell_type": "code",
   "execution_count": null,
   "id": "594fa1b9",
   "metadata": {},
   "outputs": [],
   "source": []
  }
 ],
 "metadata": {
  "kernelspec": {
   "display_name": "Python 3 (ipykernel)",
   "language": "python",
   "name": "python3"
  },
  "language_info": {
   "codemirror_mode": {
    "name": "ipython",
    "version": 3
   },
   "file_extension": ".py",
   "mimetype": "text/x-python",
   "name": "python",
   "nbconvert_exporter": "python",
   "pygments_lexer": "ipython3",
   "version": "3.9.12"
  }
 },
 "nbformat": 4,
 "nbformat_minor": 5
}
